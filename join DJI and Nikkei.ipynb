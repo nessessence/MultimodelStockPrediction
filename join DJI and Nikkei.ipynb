{
 "cells": [
  {
   "cell_type": "code",
   "execution_count": 1,
   "metadata": {},
   "outputs": [],
   "source": [
    "import pandas as pd\n",
    "import numpy as np\n",
    "import matplotlib.pyplot as plt\n",
    "import os"
   ]
  },
  {
   "cell_type": "code",
   "execution_count": 2,
   "metadata": {},
   "outputs": [
    {
     "data": {
      "text/plain": [
       "['DJI_STO_20period_sma10.csv',\n",
       " 'model_FE.ipynb',\n",
       " '.git',\n",
       " 'Nikkie_NoFE.ipynb',\n",
       " '.DS_Store',\n",
       " 'README.md',\n",
       " 'ARIMA_model.ipynb',\n",
       " 'utils.py',\n",
       " '__pycache__',\n",
       " 'baseline.ipynb',\n",
       " 'seq2word_seq2seq.ipynb',\n",
       " 'AIAlpha.ipynb',\n",
       " 'preprocess',\n",
       " '.ipynb_checkpoints',\n",
       " 'data',\n",
       " 'join DJI and Nikkei.ipynb',\n",
       " 'saved_model',\n",
       " 'tmp',\n",
       " 'model_fe_too.ipynb']"
      ]
     },
     "execution_count": 2,
     "metadata": {},
     "output_type": "execute_result"
    }
   ],
   "source": [
    "os.listdir()\n"
   ]
  },
  {
   "cell_type": "code",
   "execution_count": 3,
   "metadata": {},
   "outputs": [
    {
     "data": {
      "text/plain": [
       "['model_seq2word.h5',\n",
       " 'model_sma_NoVOL.h5',\n",
       " 'model_sma_ema_sto.h5',\n",
       " 'the_best_one.h5',\n",
       " 'model_seq2seq.h5',\n",
       " 'model00leaky.h5',\n",
       " 'best_nikkie_noFE.h5']"
      ]
     },
     "execution_count": 3,
     "metadata": {},
     "output_type": "execute_result"
    }
   ],
   "source": [
    "os.chdir('./saved_model')\n",
    "os.listdir()"
   ]
  }
 ],
 "metadata": {
  "kernelspec": {
   "display_name": "Python 3",
   "language": "python",
   "name": "python3"
  },
  "language_info": {
   "codemirror_mode": {
    "name": "ipython",
    "version": 3
   },
   "file_extension": ".py",
   "mimetype": "text/x-python",
   "name": "python",
   "nbconvert_exporter": "python",
   "pygments_lexer": "ipython3",
   "version": "3.6.9"
  }
 },
 "nbformat": 4,
 "nbformat_minor": 2
}
