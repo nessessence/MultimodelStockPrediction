{
 "cells": [
  {
   "cell_type": "code",
   "execution_count": 1,
   "metadata": {},
   "outputs": [],
   "source": [
    "import numpy as np\n",
    "import pandas as pd\n",
    "import os\n",
    "import seaborn as sns\n",
    "import re\n",
    "import matplotlib.pyplot as plt\n",
    "\n",
    "from sklearn.metrics import roc_curve, auc\n",
    "\n",
    "from sklearn.model_selection import train_test_split\n",
    "from tensorflow.keras.preprocessing.text import Tokenizer\n",
    "from tensorflow.keras.preprocessing.sequence import pad_sequences\n",
    "from tensorflow.keras.layers import Embedding, Flatten, Dense, Conv1D, GlobalMaxPooling1D, LSTM, Bidirectional, Dropout, BatchNormalization, GRU\n",
    "from tensorflow.keras.models import Sequential\n",
    "from tensorflow.keras.optimizers import Adam\n"
   ]
  },
  {
   "cell_type": "code",
   "execution_count": 2,
   "metadata": {},
   "outputs": [
    {
     "data": {
      "text/plain": [
       "['djia_news_top1_22.csv']"
      ]
     },
     "execution_count": 2,
     "metadata": {},
     "output_type": "execute_result"
    }
   ],
   "source": [
    "os.listdir('./data/preprocessed')"
   ]
  },
  {
   "cell_type": "markdown",
   "metadata": {},
   "source": [
    "# Data import"
   ]
  },
  {
   "cell_type": "code",
   "execution_count": 4,
   "metadata": {},
   "outputs": [],
   "source": [
    "# df_reddit = pd.read_csv('../data/stocknews/RedditNews.csv')\n",
    "df_news = pd.read_csv('./data/preprocessed/djia_news_top1_22.csv')\n",
    "df_djia = pd.read_csv('./data/stocknews/upload_DJIA_table.csv')\n"
   ]
  },
  {
   "cell_type": "code",
   "execution_count": 5,
   "metadata": {},
   "outputs": [
    {
     "data": {
      "text/html": [
       "<div>\n",
       "<style scoped>\n",
       "    .dataframe tbody tr th:only-of-type {\n",
       "        vertical-align: middle;\n",
       "    }\n",
       "\n",
       "    .dataframe tbody tr th {\n",
       "        vertical-align: top;\n",
       "    }\n",
       "\n",
       "    .dataframe thead th {\n",
       "        text-align: right;\n",
       "    }\n",
       "</style>\n",
       "<table border=\"1\" class=\"dataframe\">\n",
       "  <thead>\n",
       "    <tr style=\"text-align: right;\">\n",
       "      <th></th>\n",
       "      <th>Date</th>\n",
       "      <th>Label</th>\n",
       "      <th>Top1</th>\n",
       "      <th>Top2</th>\n",
       "      <th>Top3</th>\n",
       "      <th>Top4</th>\n",
       "      <th>Top5</th>\n",
       "      <th>Top6</th>\n",
       "      <th>Top7</th>\n",
       "      <th>Top8</th>\n",
       "      <th>...</th>\n",
       "      <th>Top13</th>\n",
       "      <th>Top14</th>\n",
       "      <th>Top15</th>\n",
       "      <th>Top16</th>\n",
       "      <th>Top17</th>\n",
       "      <th>Top18</th>\n",
       "      <th>Top19</th>\n",
       "      <th>Top20</th>\n",
       "      <th>Top21</th>\n",
       "      <th>Top22</th>\n",
       "    </tr>\n",
       "  </thead>\n",
       "  <tbody>\n",
       "    <tr>\n",
       "      <th>1984</th>\n",
       "      <td>2016-06-27</td>\n",
       "      <td>0</td>\n",
       "      <td>barclays and rbs shares suspended from trading...</td>\n",
       "      <td>pope says church should ask forgiveness from g...</td>\n",
       "      <td>poland shocked by xenophobic abuse of poles in uk</td>\n",
       "      <td>there will be no second referendum cabinet agrees</td>\n",
       "      <td>scotland welcome to join eu merkel ally says</td>\n",
       "      <td>sterling dips below fridays year low amid brex...</td>\n",
       "      <td>no negative news about south african president...</td>\n",
       "      <td>surge in hate crimes in the uk following uks b...</td>\n",
       "      <td>...</td>\n",
       "      <td>giant panda in macau gives birth to twins</td>\n",
       "      <td>get out now eu leader tells britain it must in...</td>\n",
       "      <td>sea turtle beaten and left for dead on beach b...</td>\n",
       "      <td>german lawyers to probe erdogan over alleged w...</td>\n",
       "      <td>boris johnson says the uk will continue to int...</td>\n",
       "      <td>richard branson is calling on the uk governmen...</td>\n",
       "      <td>turkey sorry for downing russian jet</td>\n",
       "      <td>edward snowden lawyer vows new push for pardon...</td>\n",
       "      <td>brexit opinion poll reveals majority dont want...</td>\n",
       "      <td>conservative mp leave campaigner the leave cam...</td>\n",
       "    </tr>\n",
       "    <tr>\n",
       "      <th>1985</th>\n",
       "      <td>2016-06-28</td>\n",
       "      <td>1</td>\n",
       "      <td>scientists to australia if you want to save th...</td>\n",
       "      <td>the personal details of  french police officer...</td>\n",
       "      <td>sampp cuts united kingdom sovereign credit rat...</td>\n",
       "      <td>huge helium deposit found in africa</td>\n",
       "      <td>ceo of the south african state broadcaster qui...</td>\n",
       "      <td>brexit cost investors  trillion the worst one ...</td>\n",
       "      <td>hong kong democracy activists call for return ...</td>\n",
       "      <td>brexit iceland president says uk can join tria...</td>\n",
       "      <td>...</td>\n",
       "      <td>ryanair will not deploy new aircraft on routes...</td>\n",
       "      <td>people ever more greedy and stupid destroy the...</td>\n",
       "      <td>siemens freezes new uk wind power investment f...</td>\n",
       "      <td>us canada and mexico pledge  of power from cle...</td>\n",
       "      <td>there is increasing evidence that australia is...</td>\n",
       "      <td>richard branson the founder of virgin group sa...</td>\n",
       "      <td>yrold skull from borneo reveals surprise for s...</td>\n",
       "      <td>palestinians stone western wall worshipers pol...</td>\n",
       "      <td>jeanclaude juncker asks farage why are you here</td>\n",
       "      <td>romanians for remainians offering a new home t...</td>\n",
       "    </tr>\n",
       "    <tr>\n",
       "      <th>1986</th>\n",
       "      <td>2016-06-29</td>\n",
       "      <td>1</td>\n",
       "      <td>explosion at airport in istanbul</td>\n",
       "      <td>yemeni former president terrorism is the offsp...</td>\n",
       "      <td>uk must accept freedom of movement to access e...</td>\n",
       "      <td>devastated scientists too late to captive bree...</td>\n",
       "      <td>british labor party leader jeremy corbyn loses...</td>\n",
       "      <td>a muslim shop in the uk was just firebombed wh...</td>\n",
       "      <td>mexican authorities sexually torture women in ...</td>\n",
       "      <td>uk shares and pound continue to recover</td>\n",
       "      <td>...</td>\n",
       "      <td>former belgian prime minister ridicules nigel ...</td>\n",
       "      <td>brexiteer nigel farage to eu youre not laughin...</td>\n",
       "      <td>islamic state bombings in southern yemen kill ...</td>\n",
       "      <td>escape tunnel dug by hand is found at holocaus...</td>\n",
       "      <td>the land under beijing is sinking by as much a...</td>\n",
       "      <td>car bomb and antiislamic attack on mosque in p...</td>\n",
       "      <td>emaciated lions in taiz zoo are trapped in blo...</td>\n",
       "      <td>rupert murdoch describes brexit as wonderful t...</td>\n",
       "      <td>more than  killed in yemen suicide attacks</td>\n",
       "      <td>google found disastrous symantec and norton vu...</td>\n",
       "    </tr>\n",
       "    <tr>\n",
       "      <th>1987</th>\n",
       "      <td>2016-06-30</td>\n",
       "      <td>1</td>\n",
       "      <td>jamaica proposes marijuana dispensers for tour...</td>\n",
       "      <td>stephen hawking says pollution and stupidity s...</td>\n",
       "      <td>boris johnson says he will not run for tory pa...</td>\n",
       "      <td>six gay men in ivory coast were abused and for...</td>\n",
       "      <td>switzerland denies citizenship to muslim immig...</td>\n",
       "      <td>palestinian terrorist stabs israeli teen girl ...</td>\n",
       "      <td>puerto rico will default on  billion of debt o...</td>\n",
       "      <td>republic of ireland fans to be awarded medal f...</td>\n",
       "      <td>...</td>\n",
       "      <td>japans top court has approved blanket surveill...</td>\n",
       "      <td>cia gave romania millions to host secret prisons</td>\n",
       "      <td>groups urge un to suspend saudi arabia from ri...</td>\n",
       "      <td>googles free wifi at indian railway stations i...</td>\n",
       "      <td>mounting evidence suggests hobbits were wiped ...</td>\n",
       "      <td>the men who carried out tuesdays terror attack...</td>\n",
       "      <td>calls to suspend saudi arabia from un human ri...</td>\n",
       "      <td>more than  nobel laureates call out greenpeace...</td>\n",
       "      <td>british pedophile sentenced to  years in us fo...</td>\n",
       "      <td>us permitted  offshore fracks in gulf of mexic...</td>\n",
       "    </tr>\n",
       "    <tr>\n",
       "      <th>1988</th>\n",
       "      <td>2016-07-01</td>\n",
       "      <td>1</td>\n",
       "      <td>a yearold woman in mexico city finally receive...</td>\n",
       "      <td>imf chief backs athens as permanent olympic host</td>\n",
       "      <td>the president of france says if brexit won so ...</td>\n",
       "      <td>british man who must give police  hours notice...</td>\n",
       "      <td>nobel laureates urge greenpeace to stop opposi...</td>\n",
       "      <td>brazil huge spike in number of police killings...</td>\n",
       "      <td>austrias highest court annuls presidential ele...</td>\n",
       "      <td>facebook wins privacy case can track any belgi...</td>\n",
       "      <td>...</td>\n",
       "      <td>taiwanese warship accidentally fires missile t...</td>\n",
       "      <td>iran celebrates american human rights week moc...</td>\n",
       "      <td>un panel moves to curb bias against lgbt peopl...</td>\n",
       "      <td>the united states has placed myanmar uzbekista...</td>\n",
       "      <td>sampp revises european union credit rating to ...</td>\n",
       "      <td>india gets  billion loan from world bank for s...</td>\n",
       "      <td>us sailors detained by iran spoke too much und...</td>\n",
       "      <td>mass fish kill in vietnam solved as taiwan ste...</td>\n",
       "      <td>philippines president rodrigo duterte urges pe...</td>\n",
       "      <td>spain arrests three pakistanis accused of prom...</td>\n",
       "    </tr>\n",
       "  </tbody>\n",
       "</table>\n",
       "<p>5 rows × 24 columns</p>\n",
       "</div>"
      ],
      "text/plain": [
       "            Date  Label                                               Top1  \\\n",
       "1984  2016-06-27      0  barclays and rbs shares suspended from trading...   \n",
       "1985  2016-06-28      1  scientists to australia if you want to save th...   \n",
       "1986  2016-06-29      1                   explosion at airport in istanbul   \n",
       "1987  2016-06-30      1  jamaica proposes marijuana dispensers for tour...   \n",
       "1988  2016-07-01      1  a yearold woman in mexico city finally receive...   \n",
       "\n",
       "                                                   Top2  \\\n",
       "1984  pope says church should ask forgiveness from g...   \n",
       "1985  the personal details of  french police officer...   \n",
       "1986  yemeni former president terrorism is the offsp...   \n",
       "1987  stephen hawking says pollution and stupidity s...   \n",
       "1988   imf chief backs athens as permanent olympic host   \n",
       "\n",
       "                                                   Top3  \\\n",
       "1984  poland shocked by xenophobic abuse of poles in uk   \n",
       "1985  sampp cuts united kingdom sovereign credit rat...   \n",
       "1986  uk must accept freedom of movement to access e...   \n",
       "1987  boris johnson says he will not run for tory pa...   \n",
       "1988  the president of france says if brexit won so ...   \n",
       "\n",
       "                                                   Top4  \\\n",
       "1984  there will be no second referendum cabinet agrees   \n",
       "1985                huge helium deposit found in africa   \n",
       "1986  devastated scientists too late to captive bree...   \n",
       "1987  six gay men in ivory coast were abused and for...   \n",
       "1988  british man who must give police  hours notice...   \n",
       "\n",
       "                                                   Top5  \\\n",
       "1984       scotland welcome to join eu merkel ally says   \n",
       "1985  ceo of the south african state broadcaster qui...   \n",
       "1986  british labor party leader jeremy corbyn loses...   \n",
       "1987  switzerland denies citizenship to muslim immig...   \n",
       "1988  nobel laureates urge greenpeace to stop opposi...   \n",
       "\n",
       "                                                   Top6  \\\n",
       "1984  sterling dips below fridays year low amid brex...   \n",
       "1985  brexit cost investors  trillion the worst one ...   \n",
       "1986  a muslim shop in the uk was just firebombed wh...   \n",
       "1987  palestinian terrorist stabs israeli teen girl ...   \n",
       "1988  brazil huge spike in number of police killings...   \n",
       "\n",
       "                                                   Top7  \\\n",
       "1984  no negative news about south african president...   \n",
       "1985  hong kong democracy activists call for return ...   \n",
       "1986  mexican authorities sexually torture women in ...   \n",
       "1987  puerto rico will default on  billion of debt o...   \n",
       "1988  austrias highest court annuls presidential ele...   \n",
       "\n",
       "                                                   Top8  ...  \\\n",
       "1984  surge in hate crimes in the uk following uks b...  ...   \n",
       "1985  brexit iceland president says uk can join tria...  ...   \n",
       "1986            uk shares and pound continue to recover  ...   \n",
       "1987  republic of ireland fans to be awarded medal f...  ...   \n",
       "1988  facebook wins privacy case can track any belgi...  ...   \n",
       "\n",
       "                                                  Top13  \\\n",
       "1984          giant panda in macau gives birth to twins   \n",
       "1985  ryanair will not deploy new aircraft on routes...   \n",
       "1986  former belgian prime minister ridicules nigel ...   \n",
       "1987  japans top court has approved blanket surveill...   \n",
       "1988  taiwanese warship accidentally fires missile t...   \n",
       "\n",
       "                                                  Top14  \\\n",
       "1984  get out now eu leader tells britain it must in...   \n",
       "1985  people ever more greedy and stupid destroy the...   \n",
       "1986  brexiteer nigel farage to eu youre not laughin...   \n",
       "1987   cia gave romania millions to host secret prisons   \n",
       "1988  iran celebrates american human rights week moc...   \n",
       "\n",
       "                                                  Top15  \\\n",
       "1984  sea turtle beaten and left for dead on beach b...   \n",
       "1985  siemens freezes new uk wind power investment f...   \n",
       "1986  islamic state bombings in southern yemen kill ...   \n",
       "1987  groups urge un to suspend saudi arabia from ri...   \n",
       "1988  un panel moves to curb bias against lgbt peopl...   \n",
       "\n",
       "                                                  Top16  \\\n",
       "1984  german lawyers to probe erdogan over alleged w...   \n",
       "1985  us canada and mexico pledge  of power from cle...   \n",
       "1986  escape tunnel dug by hand is found at holocaus...   \n",
       "1987  googles free wifi at indian railway stations i...   \n",
       "1988  the united states has placed myanmar uzbekista...   \n",
       "\n",
       "                                                  Top17  \\\n",
       "1984  boris johnson says the uk will continue to int...   \n",
       "1985  there is increasing evidence that australia is...   \n",
       "1986  the land under beijing is sinking by as much a...   \n",
       "1987  mounting evidence suggests hobbits were wiped ...   \n",
       "1988  sampp revises european union credit rating to ...   \n",
       "\n",
       "                                                  Top18  \\\n",
       "1984  richard branson is calling on the uk governmen...   \n",
       "1985  richard branson the founder of virgin group sa...   \n",
       "1986  car bomb and antiislamic attack on mosque in p...   \n",
       "1987  the men who carried out tuesdays terror attack...   \n",
       "1988  india gets  billion loan from world bank for s...   \n",
       "\n",
       "                                                  Top19  \\\n",
       "1984               turkey sorry for downing russian jet   \n",
       "1985  yrold skull from borneo reveals surprise for s...   \n",
       "1986  emaciated lions in taiz zoo are trapped in blo...   \n",
       "1987  calls to suspend saudi arabia from un human ri...   \n",
       "1988  us sailors detained by iran spoke too much und...   \n",
       "\n",
       "                                                  Top20  \\\n",
       "1984  edward snowden lawyer vows new push for pardon...   \n",
       "1985  palestinians stone western wall worshipers pol...   \n",
       "1986  rupert murdoch describes brexit as wonderful t...   \n",
       "1987  more than  nobel laureates call out greenpeace...   \n",
       "1988  mass fish kill in vietnam solved as taiwan ste...   \n",
       "\n",
       "                                                  Top21  \\\n",
       "1984  brexit opinion poll reveals majority dont want...   \n",
       "1985    jeanclaude juncker asks farage why are you here   \n",
       "1986         more than  killed in yemen suicide attacks   \n",
       "1987  british pedophile sentenced to  years in us fo...   \n",
       "1988  philippines president rodrigo duterte urges pe...   \n",
       "\n",
       "                                                  Top22  \n",
       "1984  conservative mp leave campaigner the leave cam...  \n",
       "1985  romanians for remainians offering a new home t...  \n",
       "1986  google found disastrous symantec and norton vu...  \n",
       "1987  us permitted  offshore fracks in gulf of mexic...  \n",
       "1988  spain arrests three pakistanis accused of prom...  \n",
       "\n",
       "[5 rows x 24 columns]"
      ]
     },
     "execution_count": 5,
     "metadata": {},
     "output_type": "execute_result"
    }
   ],
   "source": [
    "df_news.tail()"
   ]
  },
  {
   "cell_type": "code",
   "execution_count": 8,
   "metadata": {},
   "outputs": [],
   "source": [
    "df = pd.merge(df_djia, df_news, on='Date', how='inner')\n",
    "\n",
    "# df = pd.merge(df_djia_news, df_reddit, on='Date', how='inner')"
   ]
  },
  {
   "cell_type": "code",
   "execution_count": 9,
   "metadata": {},
   "outputs": [
    {
     "data": {
      "text/plain": [
       "<matplotlib.axes._subplots.AxesSubplot at 0x13a8705f8>"
      ]
     },
     "execution_count": 9,
     "metadata": {},
     "output_type": "execute_result"
    },
    {
     "data": {
      "image/png": "[encoded data removed]",
      "text/plain": [
       "<Figure size 432x288 with 1 Axes>"
      ]
     },
     "metadata": {
      "needs_background": "light"
     },
     "output_type": "display_data"
    }
   ],
   "source": [
    "# 0 = decrease , 1 = increase or equal at Adj.Close\n",
    "sns.countplot(x='Label', data=df_news)"
   ]
  },
  {
   "cell_type": "code",
   "execution_count": 10,
   "metadata": {},
   "outputs": [],
   "source": [
    "df_news['Date'] = pd.to_datetime(df_news.Date)\n",
    "train_split = 0.8\n",
    "total_count = df_news.shape[0]\n",
    "train_cut = int(total_count * train_split)\n",
    "train = df_news.loc[:train_cut-1, :]\n",
    "test = df_news.loc[train_cut:, :]\n",
    "y_train = np.array(train[\"Label\"])\n",
    "y_test = np.array(test[\"Label\"])"
   ]
  },
  {
   "cell_type": "code",
   "execution_count": 11,
   "metadata": {
    "scrolled": true
   },
   "outputs": [
    {
     "data": {
      "text/html": [
       "<div>\n",
       "<style scoped>\n",
       "    .dataframe tbody tr th:only-of-type {\n",
       "        vertical-align: middle;\n",
       "    }\n",
       "\n",
       "    .dataframe tbody tr th {\n",
       "        vertical-align: top;\n",
       "    }\n",
       "\n",
       "    .dataframe thead th {\n",
       "        text-align: right;\n",
       "    }\n",
       "</style>\n",
       "<table border=\"1\" class=\"dataframe\">\n",
       "  <thead>\n",
       "    <tr style=\"text-align: right;\">\n",
       "      <th></th>\n",
       "      <th>Date</th>\n",
       "      <th>Label</th>\n",
       "      <th>Top1</th>\n",
       "      <th>Top2</th>\n",
       "      <th>Top3</th>\n",
       "      <th>Top4</th>\n",
       "      <th>Top5</th>\n",
       "      <th>Top6</th>\n",
       "      <th>Top7</th>\n",
       "      <th>Top8</th>\n",
       "      <th>...</th>\n",
       "      <th>Top13</th>\n",
       "      <th>Top14</th>\n",
       "      <th>Top15</th>\n",
       "      <th>Top16</th>\n",
       "      <th>Top17</th>\n",
       "      <th>Top18</th>\n",
       "      <th>Top19</th>\n",
       "      <th>Top20</th>\n",
       "      <th>Top21</th>\n",
       "      <th>Top22</th>\n",
       "    </tr>\n",
       "  </thead>\n",
       "  <tbody>\n",
       "    <tr>\n",
       "      <th>0</th>\n",
       "      <td>2008-08-08</td>\n",
       "      <td>0</td>\n",
       "      <td>georgia downs two russian warplanes as countri...</td>\n",
       "      <td>breaking musharraf to be impeached</td>\n",
       "      <td>russia today columns of troops roll into south...</td>\n",
       "      <td>russian tanks are moving towards the capital o...</td>\n",
       "      <td>afghan children raped with impunity un officia...</td>\n",
       "      <td>russian tanks have entered south ossetia whils...</td>\n",
       "      <td>breaking georgia invades south ossetia russia ...</td>\n",
       "      <td>the enemy combatent trials are nothing but a s...</td>\n",
       "      <td>...</td>\n",
       "      <td>sorussia and georgia are at war and the nyts t...</td>\n",
       "      <td>china tells bush to stay out of other countrie...</td>\n",
       "      <td>did world war iii start today</td>\n",
       "      <td>georgia invades south ossetia  if russia gets ...</td>\n",
       "      <td>alqaeda faces islamist backlash</td>\n",
       "      <td>condoleezza rice the us would not act to preve...</td>\n",
       "      <td>this is a busy day  the european union has app...</td>\n",
       "      <td>georgia will withdraw  soldiers from iraq to h...</td>\n",
       "      <td>why the pentagon thinks attacking iran is a ba...</td>\n",
       "      <td>caucasus in crisis georgia invades south ossetia</td>\n",
       "    </tr>\n",
       "    <tr>\n",
       "      <th>1</th>\n",
       "      <td>2008-08-11</td>\n",
       "      <td>1</td>\n",
       "      <td>why wont america and nato help us if they wont...</td>\n",
       "      <td>bush puts foot down on georgian conflict</td>\n",
       "      <td>jewish georgian minister thanks to israeli tra...</td>\n",
       "      <td>georgian army flees in disarray as russians ad...</td>\n",
       "      <td>olympic opening ceremony fireworks faked</td>\n",
       "      <td>what were the mossad with fraudulent new zeala...</td>\n",
       "      <td>russia angered by israeli military sale to geo...</td>\n",
       "      <td>an american citizen living in sossetia blames ...</td>\n",
       "      <td>...</td>\n",
       "      <td>us ship heads for arctic to define territory</td>\n",
       "      <td>drivers in a jerusalem taxi station threaten t...</td>\n",
       "      <td>the french team is stunned by phelps and the x...</td>\n",
       "      <td>israel and the us behind the georgian aggression</td>\n",
       "      <td>do not believe tv neither russian nor georgian...</td>\n",
       "      <td>riots are still going on in montreal canada be...</td>\n",
       "      <td>china to overtake us as largest manufacturer</td>\n",
       "      <td>war in south ossetia pics</td>\n",
       "      <td>israeli physicians group condemns state torture</td>\n",
       "      <td>russia has just beaten the united states over ...</td>\n",
       "    </tr>\n",
       "    <tr>\n",
       "      <th>2</th>\n",
       "      <td>2008-08-12</td>\n",
       "      <td>0</td>\n",
       "      <td>remember that adorable yearold who sang at the...</td>\n",
       "      <td>russia ends georgia operation</td>\n",
       "      <td>if we had no sexual harassment we would have n...</td>\n",
       "      <td>alqaeda is losing support in iraq because of a...</td>\n",
       "      <td>ceasefire in georgia putin outmaneuvers the west</td>\n",
       "      <td>why microsoft and intel tried to kill the xo  ...</td>\n",
       "      <td>stratfor the russogeorgian war and the balance...</td>\n",
       "      <td>im trying to get a sense of this whole georgia...</td>\n",
       "      <td>...</td>\n",
       "      <td>beginning a war as the olympics were opening v...</td>\n",
       "      <td>pyramids as large as the luxor stacked into a ...</td>\n",
       "      <td>the  top party cities in the world</td>\n",
       "      <td>us troops still in georgia did you know they w...</td>\n",
       "      <td>why russias response to georgia was right</td>\n",
       "      <td>gorbachev accuses us of making a serious blund...</td>\n",
       "      <td>russia georgia and nato cold war two</td>\n",
       "      <td>remember that adorable yearold who led your co...</td>\n",
       "      <td>war in georgia the israeli connection</td>\n",
       "      <td>all signs point to the us encouraging georgia ...</td>\n",
       "    </tr>\n",
       "    <tr>\n",
       "      <th>3</th>\n",
       "      <td>2008-08-13</td>\n",
       "      <td>0</td>\n",
       "      <td>us refuses israel weapons to attack iran report</td>\n",
       "      <td>when the president ordered to attack tskhinval...</td>\n",
       "      <td>israel clears troops who killed reuters cameraman</td>\n",
       "      <td>britains policy of being tough on drugs is poi...</td>\n",
       "      <td>body of  year old found in trunk latest ransom...</td>\n",
       "      <td>china has moved  million quake survivors into ...</td>\n",
       "      <td>bush announces operation get all up in russias...</td>\n",
       "      <td>russian forces sink georgian ships</td>\n",
       "      <td>...</td>\n",
       "      <td>in an intriguing cyberalliance two estonian co...</td>\n",
       "      <td>the cnn effect georgia schools russia in infor...</td>\n",
       "      <td>why russias response to georgia was right</td>\n",
       "      <td>elephants extinct by</td>\n",
       "      <td>us humanitarian missions soon in georgia  if r...</td>\n",
       "      <td>georgias ddos came from us sources</td>\n",
       "      <td>russian convoy heads into georgia violating truce</td>\n",
       "      <td>israeli defence minister us against strike on ...</td>\n",
       "      <td>gorbachev we had no choice</td>\n",
       "      <td>witness russian forces head towards tbilisi in...</td>\n",
       "    </tr>\n",
       "    <tr>\n",
       "      <th>4</th>\n",
       "      <td>2008-08-14</td>\n",
       "      <td>1</td>\n",
       "      <td>all the experts admit that we should legalise ...</td>\n",
       "      <td>war in south osetia   pictures made by a russi...</td>\n",
       "      <td>swedish wrestler ara abrahamian throws away me...</td>\n",
       "      <td>russia exaggerated the death toll in south oss...</td>\n",
       "      <td>missile that killed  inside pakistan may have ...</td>\n",
       "      <td>rushdie condemns random houses refusal to publ...</td>\n",
       "      <td>poland and us agree to missle defense deal int...</td>\n",
       "      <td>will the russians conquer tblisi bet on it no ...</td>\n",
       "      <td>...</td>\n",
       "      <td>nigeria has handed over the potentially oilric...</td>\n",
       "      <td>the us and poland have agreed a preliminary de...</td>\n",
       "      <td>russia apparently is sabotaging infrastructure...</td>\n",
       "      <td>bank analyst forecast georgian crisis  days early</td>\n",
       "      <td>georgia confict could set back russias us rela...</td>\n",
       "      <td>war in the caucasus is as much the product of ...</td>\n",
       "      <td>nonmedia photos of south ossetiageorgia conflict</td>\n",
       "      <td>georgian tv reporter shot by russian sniper du...</td>\n",
       "      <td>saudi arabia mother moves to block child marriage</td>\n",
       "      <td>taliban wages war on humanitarian aid workers</td>\n",
       "    </tr>\n",
       "  </tbody>\n",
       "</table>\n",
       "<p>5 rows × 24 columns</p>\n",
       "</div>"
      ],
      "text/plain": [
       "        Date  Label                                               Top1  \\\n",
       "0 2008-08-08      0  georgia downs two russian warplanes as countri...   \n",
       "1 2008-08-11      1  why wont america and nato help us if they wont...   \n",
       "2 2008-08-12      0  remember that adorable yearold who sang at the...   \n",
       "3 2008-08-13      0    us refuses israel weapons to attack iran report   \n",
       "4 2008-08-14      1  all the experts admit that we should legalise ...   \n",
       "\n",
       "                                                Top2  \\\n",
       "0                 breaking musharraf to be impeached   \n",
       "1           bush puts foot down on georgian conflict   \n",
       "2                      russia ends georgia operation   \n",
       "3  when the president ordered to attack tskhinval...   \n",
       "4  war in south osetia   pictures made by a russi...   \n",
       "\n",
       "                                                Top3  \\\n",
       "0  russia today columns of troops roll into south...   \n",
       "1  jewish georgian minister thanks to israeli tra...   \n",
       "2  if we had no sexual harassment we would have n...   \n",
       "3  israel clears troops who killed reuters cameraman   \n",
       "4  swedish wrestler ara abrahamian throws away me...   \n",
       "\n",
       "                                                Top4  \\\n",
       "0  russian tanks are moving towards the capital o...   \n",
       "1  georgian army flees in disarray as russians ad...   \n",
       "2  alqaeda is losing support in iraq because of a...   \n",
       "3  britains policy of being tough on drugs is poi...   \n",
       "4  russia exaggerated the death toll in south oss...   \n",
       "\n",
       "                                                Top5  \\\n",
       "0  afghan children raped with impunity un officia...   \n",
       "1           olympic opening ceremony fireworks faked   \n",
       "2   ceasefire in georgia putin outmaneuvers the west   \n",
       "3  body of  year old found in trunk latest ransom...   \n",
       "4  missile that killed  inside pakistan may have ...   \n",
       "\n",
       "                                                Top6  \\\n",
       "0  russian tanks have entered south ossetia whils...   \n",
       "1  what were the mossad with fraudulent new zeala...   \n",
       "2  why microsoft and intel tried to kill the xo  ...   \n",
       "3  china has moved  million quake survivors into ...   \n",
       "4  rushdie condemns random houses refusal to publ...   \n",
       "\n",
       "                                                Top7  \\\n",
       "0  breaking georgia invades south ossetia russia ...   \n",
       "1  russia angered by israeli military sale to geo...   \n",
       "2  stratfor the russogeorgian war and the balance...   \n",
       "3  bush announces operation get all up in russias...   \n",
       "4  poland and us agree to missle defense deal int...   \n",
       "\n",
       "                                                Top8  ...  \\\n",
       "0  the enemy combatent trials are nothing but a s...  ...   \n",
       "1  an american citizen living in sossetia blames ...  ...   \n",
       "2  im trying to get a sense of this whole georgia...  ...   \n",
       "3                 russian forces sink georgian ships  ...   \n",
       "4  will the russians conquer tblisi bet on it no ...  ...   \n",
       "\n",
       "                                               Top13  \\\n",
       "0  sorussia and georgia are at war and the nyts t...   \n",
       "1       us ship heads for arctic to define territory   \n",
       "2  beginning a war as the olympics were opening v...   \n",
       "3  in an intriguing cyberalliance two estonian co...   \n",
       "4  nigeria has handed over the potentially oilric...   \n",
       "\n",
       "                                               Top14  \\\n",
       "0  china tells bush to stay out of other countrie...   \n",
       "1  drivers in a jerusalem taxi station threaten t...   \n",
       "2  pyramids as large as the luxor stacked into a ...   \n",
       "3  the cnn effect georgia schools russia in infor...   \n",
       "4  the us and poland have agreed a preliminary de...   \n",
       "\n",
       "                                               Top15  \\\n",
       "0                      did world war iii start today   \n",
       "1  the french team is stunned by phelps and the x...   \n",
       "2                 the  top party cities in the world   \n",
       "3          why russias response to georgia was right   \n",
       "4  russia apparently is sabotaging infrastructure...   \n",
       "\n",
       "                                               Top16  \\\n",
       "0  georgia invades south ossetia  if russia gets ...   \n",
       "1   israel and the us behind the georgian aggression   \n",
       "2  us troops still in georgia did you know they w...   \n",
       "3                               elephants extinct by   \n",
       "4  bank analyst forecast georgian crisis  days early   \n",
       "\n",
       "                                               Top17  \\\n",
       "0                    alqaeda faces islamist backlash   \n",
       "1  do not believe tv neither russian nor georgian...   \n",
       "2          why russias response to georgia was right   \n",
       "3  us humanitarian missions soon in georgia  if r...   \n",
       "4  georgia confict could set back russias us rela...   \n",
       "\n",
       "                                               Top18  \\\n",
       "0  condoleezza rice the us would not act to preve...   \n",
       "1  riots are still going on in montreal canada be...   \n",
       "2  gorbachev accuses us of making a serious blund...   \n",
       "3                 georgias ddos came from us sources   \n",
       "4  war in the caucasus is as much the product of ...   \n",
       "\n",
       "                                               Top19  \\\n",
       "0  this is a busy day  the european union has app...   \n",
       "1       china to overtake us as largest manufacturer   \n",
       "2               russia georgia and nato cold war two   \n",
       "3  russian convoy heads into georgia violating truce   \n",
       "4   nonmedia photos of south ossetiageorgia conflict   \n",
       "\n",
       "                                               Top20  \\\n",
       "0  georgia will withdraw  soldiers from iraq to h...   \n",
       "1                          war in south ossetia pics   \n",
       "2  remember that adorable yearold who led your co...   \n",
       "3  israeli defence minister us against strike on ...   \n",
       "4  georgian tv reporter shot by russian sniper du...   \n",
       "\n",
       "                                               Top21  \\\n",
       "0  why the pentagon thinks attacking iran is a ba...   \n",
       "1    israeli physicians group condemns state torture   \n",
       "2              war in georgia the israeli connection   \n",
       "3                         gorbachev we had no choice   \n",
       "4  saudi arabia mother moves to block child marriage   \n",
       "\n",
       "                                               Top22  \n",
       "0   caucasus in crisis georgia invades south ossetia  \n",
       "1  russia has just beaten the united states over ...  \n",
       "2  all signs point to the us encouraging georgia ...  \n",
       "3  witness russian forces head towards tbilisi in...  \n",
       "4      taliban wages war on humanitarian aid workers  \n",
       "\n",
       "[5 rows x 24 columns]"
      ]
     },
     "execution_count": 11,
     "metadata": {},
     "output_type": "execute_result"
    }
   ],
   "source": [
    "train.head()"
   ]
  },
  {
   "cell_type": "markdown",
   "metadata": {},
   "source": [
    "# Preprocessing"
   ]
  },
  {
   "cell_type": "code",
   "execution_count": 12,
   "metadata": {},
   "outputs": [],
   "source": [
    "trainheadlines = list()\n",
    "for row in range(0, len(train.index)):\n",
    "    trainheadlines.append(' '.join(str(x) for x in train.iloc[row, 2:27]))\n",
    "testheadlines = list()\n",
    "for row in range(0, len(test.index)):\n",
    "    testheadlines.append(' '.join(str(x) for x in test.iloc[row, 2:27]))\n",
    "    "
   ]
  },
  {
   "cell_type": "markdown",
   "metadata": {},
   "source": [
    "# RNN with Glove embedding"
   ]
  },
  {
   "cell_type": "code",
   "execution_count": 15,
   "metadata": {},
   "outputs": [],
   "source": [
    "def read_glove_vecs(glove_file):\n",
    "    with open (glove_file, 'r', encoding='utf-8') as f:\n",
    "        words = set()\n",
    "        word_to_vec_map = dict()\n",
    "        for line in f:\n",
    "            line = line.strip().split()\n",
    "            curr_word = line[0]\n",
    "            words.add(curr_word)\n",
    "            word_to_vec_map[curr_word] = np.array(line[1:], dtype=np.float64)\n",
    "            \n",
    "        i = 1\n",
    "        words_to_index = dict()\n",
    "        index_to_words = dict()\n",
    "        for w in sorted(words):\n",
    "            words_to_index[w] = i\n",
    "            index_to_words[i] = w\n",
    "            i += 1\n",
    "    return words_to_index, index_to_words, word_to_vec_map\n",
    "\n",
    "def convert_to_one_hot(Y, C):\n",
    "    Y = np.eye(C)[Y.reshape(-1)]\n",
    "    return Y"
   ]
  },
  {
   "cell_type": "code",
   "execution_count": 16,
   "metadata": {},
   "outputs": [
    {
     "data": {
      "text/plain": [
       "['glove.6B.300d.txt',\n",
       " 'glove.6B.100d.txt',\n",
       " 'glove.6B.50d.txt',\n",
       " 'glove.6B.200d.txt']"
      ]
     },
     "execution_count": 16,
     "metadata": {},
     "output_type": "execute_result"
    }
   ],
   "source": [
    "os.listdir('/Users/2two2/Downloads/glove.6B')"
   ]
  },
  {
   "cell_type": "code",
   "execution_count": 17,
   "metadata": {},
   "outputs": [],
   "source": [
    "word_to_index, index_to_word, word_to_vec_map = read_glove_vecs('/Users/2two2/Downloads/glove.6B/glove.6B.50d.txt')"
   ]
  },
  {
   "cell_type": "code",
   "execution_count": 18,
   "metadata": {},
   "outputs": [
    {
     "data": {
      "text/plain": [
       "(50,)"
      ]
     },
     "execution_count": 18,
     "metadata": {},
     "output_type": "execute_result"
    }
   ],
   "source": [
    "word_to_vec_map['the'].shape"
   ]
  },
  {
   "cell_type": "code",
   "execution_count": 19,
   "metadata": {},
   "outputs": [],
   "source": [
    "def sentences_to_indices(X, word_to_index, max_len):\n",
    "    \n",
    "    m = X.shape[0]\n",
    "    X_indices = np.zeros((m, max_len), dtype=np.int)\n",
    "    \n",
    "    for i in range(m):\n",
    "        sentence_words = [w.lower() for w in X[i].split()]\n",
    "        \n",
    "        j = 0\n",
    "        \n",
    "        for w in sentence_words:\n",
    "            if w in word_to_index:\n",
    "                X_indices[i, j] = word_to_index[w]\n",
    "                j += 1\n",
    "                if j >= max_len:\n",
    "                    break\n",
    "                \n",
    "    return X_indices\n",
    "\n",
    "def pretrained_embedding_layer(word_to_vec_map, word_to_index):\n",
    "    \n",
    "    vocab_len = len(word_to_index) + 1\n",
    "    emb_dim = word_to_vec_map['stock'].shape[0]\n",
    "    \n",
    "    emb_matrix = np.zeros((vocab_len, emb_dim))\n",
    "    \n",
    "    for word, index in word_to_index.items():\n",
    "        emb_matrix[index, :] = word_to_vec_map[word]\n",
    "        \n",
    "    embedding_layer = Embedding(vocab_len, emb_dim, trainable=False)\n",
    "    embedding_layer.build((None,))\n",
    "    \n",
    "    embedding_layer.set_weights([emb_matrix])\n",
    "    return embedding_layer"
   ]
  },
  {
   "cell_type": "code",
   "execution_count": 20,
   "metadata": {},
   "outputs": [],
   "source": [
    "strip_special_chars = re.compile(\"[^A-Za-z ]+\")\n",
    "\n",
    "def cleanSentences(string):\n",
    "    string = string.lower().replace(\"b\\\"\", \" \")\n",
    "    string = string.lower().replace(\"b\\'\", \"\")\n",
    "    return re.sub(strip_special_chars, \"\", string.lower())\n",
    "    "
   ]
  },
  {
   "cell_type": "code",
   "execution_count": 21,
   "metadata": {},
   "outputs": [
    {
     "data": {
      "text/plain": [
       "array([' georgia downs'], dtype='<U14')"
      ]
     },
     "execution_count": 21,
     "metadata": {},
     "output_type": "execute_result"
    }
   ],
   "source": [
    "a = ['b\"Georgia \\'downs']\n",
    "np.array(list(map(lambda x:cleanSentences(x), a)))"
   ]
  },
  {
   "cell_type": "code",
   "execution_count": 22,
   "metadata": {},
   "outputs": [
    {
     "data": {
      "text/plain": [
       "'georgia downs two russian warplanes as countries move to brink of war breaking musharraf to be impeached russia today columns of troops roll into south ossetia footage from fighting youtube russian tanks are moving towards the capital of south ossetia which has reportedly been completely destroyed by georgian artillery fire afghan children raped with impunity un official says  this is sick a three year old was raped and they do nothing russian tanks have entered south ossetia whilst georgia shoots down two russian jets breaking georgia invades south ossetia russia warned it would intervene on sos side the enemy combatent trials are nothing but a sham salim haman has been sentenced to   years but will be kept longer anyway just because they feel like it georgian troops retreat from s osettain capital presumably leaving several hundred people killed video did the us prep georgia for war with russia rice gives green light for israel to attack iran says us has no veto over israeli military ops announcingclass action lawsuit on behalf of american public against the fbi sorussia and georgia are at war and the nyts top story is opening ceremonies of the olympics  what a fucking disgrace and yet further proof of the decline of journalism china tells bush to stay out of other countries affairs did world war iii start today georgia invades south ossetia  if russia gets involved will nato absorb georgia and unleash a full scale war alqaeda faces islamist backlash condoleezza rice the us would not act to prevent an israeli strike on iran israeli defense minister ehud barak israel is prepared for uncompromising victory in the case of military hostilities this is a busy day  the european union has approved new sanctions against iran in protest at its nuclear programme georgia will withdraw  soldiers from iraq to help fight off russian forces in georgias breakaway region of south ossetia why the pentagon thinks attacking iran is a bad idea  us news amp world report caucasus in crisis georgia invades south ossetia'"
      ]
     },
     "execution_count": 22,
     "metadata": {},
     "output_type": "execute_result"
    }
   ],
   "source": [
    "X_train = np.array(list(map(lambda x:cleanSentences(x), trainheadlines)))\n",
    "X_test = np.array(list(map(lambda x:cleanSentences(x), testheadlines)))\n",
    "\n",
    "X_train[0]"
   ]
  },
  {
   "cell_type": "code",
   "execution_count": 23,
   "metadata": {},
   "outputs": [
    {
     "data": {
      "text/plain": [
       "<matplotlib.axes._subplots.AxesSubplot at 0x14645fa90>"
      ]
     },
     "execution_count": 23,
     "metadata": {},
     "output_type": "execute_result"
    },
    {
     "data": {
      "image/png": "[encoded data removed]",
      "text/plain": [
       "<Figure size 432x288 with 1 Axes>"
      ]
     },
     "metadata": {
      "needs_background": "light"
     },
     "output_type": "display_data"
    }
   ],
   "source": [
    "X_train_lengths = list(map(lambda x: len(x.split()), X_train))\n",
    "df = pd.DataFrame({'counts': X_train_lengths})\n",
    "df.counts.plot.hist(bins=40)"
   ]
  },
  {
   "cell_type": "code",
   "execution_count": 24,
   "metadata": {},
   "outputs": [
    {
     "name": "stdout",
     "output_type": "stream",
     "text": [
      "X1 =  ['germany to meet with france']\n",
      "X1_indices =  [[160180 360915 239785 388711 152927      0      0      0      0]]\n"
     ]
    }
   ],
   "source": [
    "X1 = np.array(['germany to meet with france'])\n",
    "X1_indices = sentences_to_indices(X1, word_to_index, max_len=9)\n",
    "print(\"X1 = \", X1)\n",
    "print(\"X1_indices = \", X1_indices)"
   ]
  },
  {
   "cell_type": "code",
   "execution_count": 25,
   "metadata": {},
   "outputs": [
    {
     "data": {
      "text/plain": [
       "array([ 4.1800e-01,  2.4968e-01, -4.1242e-01,  1.2170e-01,  3.4527e-01,\n",
       "       -4.4457e-02, -4.9688e-01, -1.7862e-01, -6.6023e-04, -6.5660e-01,\n",
       "        2.7843e-01, -1.4767e-01, -5.5677e-01,  1.4658e-01, -9.5095e-03,\n",
       "        1.1658e-02,  1.0204e-01, -1.2792e-01, -8.4430e-01, -1.2181e-01,\n",
       "       -1.6801e-02, -3.3279e-01, -1.5520e-01, -2.3131e-01, -1.9181e-01,\n",
       "       -1.8823e+00, -7.6746e-01,  9.9051e-02, -4.2125e-01, -1.9526e-01,\n",
       "        4.0071e+00, -1.8594e-01, -5.2287e-01, -3.1681e-01,  5.9213e-04,\n",
       "        7.4449e-03,  1.7778e-01, -1.5897e-01,  1.2041e-02, -5.4223e-02,\n",
       "       -2.9871e-01, -1.5749e-01, -3.4758e-01, -4.5637e-02, -4.4251e-01,\n",
       "        1.8785e-01,  2.7849e-03, -1.8411e-01, -1.1514e-01, -7.8581e-01],\n",
       "      dtype=float32)"
      ]
     },
     "execution_count": 25,
     "metadata": {},
     "output_type": "execute_result"
    }
   ],
   "source": [
    "embedding_layer = pretrained_embedding_layer(word_to_vec_map, word_to_index)\n",
    "embedding_layer.get_weights()[0][word_to_index['the']]"
   ]
  },
  {
   "cell_type": "code",
   "execution_count": 27,
   "metadata": {},
   "outputs": [
    {
     "name": "stdout",
     "output_type": "stream",
     "text": [
      "Build model....\n",
      "Model: \"sequential_1\"\n",
      "_________________________________________________________________\n",
      "Layer (type)                 Output Shape              Param #   \n",
      "=================================================================\n",
      "embedding_2 (Embedding)      (None, None, 50)          20000050  \n",
      "_________________________________________________________________\n",
      "gru_2 (GRU)                  (None, None, 128)         69120     \n",
      "_________________________________________________________________\n",
      "gru_3 (GRU)                  (None, 128)               99072     \n",
      "_________________________________________________________________\n",
      "dense_1 (Dense)              (None, 1)                 129       \n",
      "=================================================================\n",
      "Total params: 20,168,371\n",
      "Trainable params: 168,321\n",
      "Non-trainable params: 20,000,050\n",
      "_________________________________________________________________\n"
     ]
    }
   ],
   "source": [
    "print('Build model....')\n",
    "model = Sequential([\n",
    "    pretrained_embedding_layer(word_to_vec_map, word_to_index),\n",
    "    GRU(128, dropout=0.2, return_sequences=True),\n",
    "    GRU(128, dropout=0.2),\n",
    "    Dense(1, activation='sigmoid')\n",
    "])\n",
    "# model.load_weights('./embedding_model.h5')\n",
    "model.compile(loss='binary_crossentropy', optimizer='adam', metrics=['accuracy'])\n",
    "model.summary()"
   ]
  },
  {
   "cell_type": "code",
   "execution_count": 28,
   "metadata": {},
   "outputs": [],
   "source": [
    "maxlen = 500\n",
    "batch_size = 32\n",
    "X_train_indices = sentences_to_indices(X_train, word_to_index, maxlen)\n",
    "X_test_indices = sentences_to_indices(X_test, word_to_index, maxlen)"
   ]
  },
  {
   "cell_type": "code",
   "execution_count": 29,
   "metadata": {},
   "outputs": [],
   "source": [
    "Y_train = y_train.reshape((-1, 1))\n",
    "Y_test = y_test.reshape((-1, 1))"
   ]
  },
  {
   "cell_type": "code",
   "execution_count": 30,
   "metadata": {},
   "outputs": [
    {
     "name": "stdout",
     "output_type": "stream",
     "text": [
      "Train...\n",
      "Train on 1591 samples, validate on 398 samples\n",
      "Epoch 1/10\n",
      "1591/1591 [==============================] - 133s 84ms/sample - loss: 0.6944 - accuracy: 0.5236 - val_loss: 0.6966 - val_accuracy: 0.5050\n",
      "Epoch 2/10\n",
      "1591/1591 [==============================] - 120s 75ms/sample - loss: 0.6891 - accuracy: 0.5462 - val_loss: 0.6923 - val_accuracy: 0.5101\n",
      "Epoch 3/10\n",
      "1591/1591 [==============================] - 120s 76ms/sample - loss: 0.6860 - accuracy: 0.5512 - val_loss: 0.6957 - val_accuracy: 0.5075\n",
      "Epoch 4/10\n",
      "1591/1591 [==============================] - 121s 76ms/sample - loss: 0.6844 - accuracy: 0.5481 - val_loss: 0.6947 - val_accuracy: 0.5050\n",
      "Epoch 5/10\n",
      "1591/1591 [==============================] - 111s 70ms/sample - loss: 0.6824 - accuracy: 0.5544 - val_loss: 0.6949 - val_accuracy: 0.5075\n",
      "Epoch 6/10\n",
      "1591/1591 [==============================] - 114s 72ms/sample - loss: 0.6737 - accuracy: 0.5525 - val_loss: 0.7062 - val_accuracy: 0.5075\n",
      "Epoch 7/10\n",
      "1591/1591 [==============================] - 114s 72ms/sample - loss: 0.6730 - accuracy: 0.5581 - val_loss: 0.6980 - val_accuracy: 0.5050\n",
      "Epoch 8/10\n",
      "1591/1591 [==============================] - 114s 72ms/sample - loss: 0.6687 - accuracy: 0.5600 - val_loss: 0.7059 - val_accuracy: 0.5075\n",
      "Epoch 9/10\n",
      "1591/1591 [==============================] - 115s 72ms/sample - loss: 0.6684 - accuracy: 0.5556 - val_loss: 0.7112 - val_accuracy: 0.5050\n",
      "Epoch 10/10\n",
      "1591/1591 [==============================] - 114s 72ms/sample - loss: 0.6648 - accuracy: 0.5625 - val_loss: 0.7112 - val_accuracy: 0.5075\n",
      "398/1 [====================================================================================================================================================================================================================================================================================================================================================================================================================================================================================================================================================================================================================================================================================================================================================================================================================================================================================================================================================================================================================================================================================================================================================================================================================================================================================================================================================================================================================================================================================================================================================================================================================================================================================================================================================================================================================================================================================================================================================================================================================================================================================================================================================================================================================================================================================================================================================================================================================================================================================================================================================================================================================================================================================================================================================================================================================================================================================================================================================================================================================================================================================================================================================================================================================================================================================================================================================================================================================================================================================================================================================================================================================================================================================================================================================================================================================================================================================================================================================================================================================================================================================================================================================================================================================================================================================================================================================================================================================================================================================================================================================================================================================================================================================================================================================================================================================================================================================================================================================================================================================================================================================================================================================================================================================================================================================================================================================================================================================================================================================================================================================================================================================================================================================================================================================================================================================================================================================================================================================================================================================================================================================================================================================================================================================================================================================================================================================================================================================================================================================================================================================================================================================================================================================================================================================================================================================================================================================================================================================================================================================================================================================================================================================================================================================================================================================================================================================================================================================================================================================================================================================================================================================================================================================================================================================================================================================================================================================================================================================================================================================================================================================================================================================================================================================================================================================================================================================================================================================================================================================================================================================================================================================================================================================================================================================================================================================================================================================================================================================================================================================================================================================================================================================================================================================================================================================================================================================================================================================================================================================================================================================================================================================================================================================================================================================================================================================================================================================================================================================================================================================================================================================================================================================================================================================================================================================================================================================================================================================================================================================================================================================================================================================================================================================================================================================================================================================================================================================================================================================================================================================================================================================================================================================================================================================================================================================================================================================================================================================================================================================================================================================================================================================================================================================================================================================================================================================================================================================================================================================================================================================================================================================================================================================================================================================================================================================================================================================================================================================================] - 6s 15ms/sample - loss: 0.7004 - accuracy: 0.5075\n"
     ]
    },
    {
     "name": "stdout",
     "output_type": "stream",
     "text": [
      "Test score:  0.7112057643320093\n",
      "Test accuracy:  0.50753766\n"
     ]
    }
   ],
   "source": [
    "print('Train...')\n",
    "history = model.fit(X_train_indices, Y_train, batch_size=batch_size, \n",
    "                    epochs=10, validation_data=(X_test_indices, Y_test))\n",
    "model.save('./embedding_model.h5')\n",
    "score, acc = model.evaluate(X_test_indices, Y_test, \n",
    "                           batch_size=batch_size)\n",
    "print('Test score: ', score)\n",
    "print('Test accuracy: ', acc)\n"
   ]
  },
  {
   "cell_type": "code",
   "execution_count": 31,
   "metadata": {},
   "outputs": [],
   "source": [
    "y_pred_keras = model.predict(X_test_indices).ravel()\n",
    "fpr_keras, tpr_keras, threshold_keras = roc_curve(y_test, y_pred_keras)"
   ]
  },
  {
   "cell_type": "code",
   "execution_count": 32,
   "metadata": {},
   "outputs": [],
   "source": [
    "auc_keras = auc(fpr_keras, tpr_keras)"
   ]
  },
  {
   "cell_type": "code",
   "execution_count": 33,
   "metadata": {},
   "outputs": [
    {
     "data": {
      "image/png": "[encoded data removed]",
      "text/plain": [
       "<Figure size 432x288 with 1 Axes>"
      ]
     },
     "metadata": {
      "needs_background": "light"
     },
     "output_type": "display_data"
    }
   ],
   "source": [
    "plt.figure(1)\n",
    "plt.plot([0, 1], [0, 1], 'k--')\n",
    "plt.plot(fpr_keras, tpr_keras, label=\"Keras (area = {:.3f})\".format(auc_keras))\n",
    "plt.xlabel('False positive rate')\n",
    "plt.ylabel('True positive rate')\n",
    "plt.title('ROC Curve')\n",
    "plt.legend(loc='best')\n",
    "plt.show()"
   ]
  },
  {
   "cell_type": "code",
   "execution_count": 34,
   "metadata": {},
   "outputs": [
    {
     "data": {
      "text/plain": [
       "0.5302924"
      ]
     },
     "execution_count": 34,
     "metadata": {},
     "output_type": "execute_result"
    }
   ],
   "source": [
    "y_pred_keras[0]"
   ]
  },
  {
   "cell_type": "code",
   "execution_count": 35,
   "metadata": {},
   "outputs": [
    {
     "data": {
      "text/plain": [
       "'british man found with nailbomb weapons cache and plans to mass murder immigrants not charged with terrorism israel must give up nuclear weapons united nations resolution ukraine pm discloses accident at nuclear plant reuters russian state tvs latest attempt to persuade viewers of the moral depravity of the west has left it with egg on its face what it presented as a child in the usa being exposed to lewd homoerotica was quickly shown to be a fake pornographic parody taken off the internet dna confirms king richard iiis remains under parking lot an indian state has halted mass sterilisations at health clinics after a doctor was found using a bicycle pump to inflate womens abdomens north korea bans name jongun for all but leader south korean government officials said on wednesday that north korea had banned parents from giving their newborns the same name as the top leader people who already have the name have been ordered to register with new ones president bashar al assad of syria says usled strikes on syria ineffective you cant end terrorism with aerial strikes troops on the ground that know the land and can react are essential french parliament votes to recognize palestine as a state rise of turkish islamic schooling upsets secular parents  turkey has seen a sharp rise in religious schooling under reforms that president tayyip erdogan casts as a defense against moral decay but which opponents see as an unwanted drive to shape a more islamic nation russian ruble in worst daily drop in  years global livestock industry produces more greenhouse gas emissions than all cars planes trains amp ships combined but global survey finds twice as many people think transport is bigger contributor  fear of a consumer backlash is preventing action on getting people to eat less meat soap sunscreen and steroids found in antarctic waters and wildlife  range of pharmaceuticals found in fish clams and sea urchins in waters around two research stations says new zealand researchers iran jets bomb islamic state targets in iraq  pentagon sepp blatter qatar world cup workers welfare is not fifas responsibility companies are responsible for their workers  hundreds have died on building projects the un general assembly has overwhelmingly approved an arabbacked resolution criticizing israel for refusing to join an international treaty against nuclear proliferation and calls on israel to join nuclear treaty israel vents their fury with france after parliament votes to recognise palestine as a state indian forces kill  militants crossing into kashmir to disrupt vote melting rate of west antarctica glaciers triples study green energy sector jobs surpass total oil sands employment in canada jordanian muslim brotherhood smuggling weapons into israel questions raised over queens ancestry after dna test on richard iiis cousins  the present queen may not be descended from john of gaunt and edward iii the lineage on which the tudor claim to the throne originated'"
      ]
     },
     "execution_count": 35,
     "metadata": {},
     "output_type": "execute_result"
    }
   ],
   "source": [
    "X_test[0]"
   ]
  },
  {
   "cell_type": "code",
   "execution_count": null,
   "metadata": {},
   "outputs": [],
   "source": []
  },
  {
   "cell_type": "code",
   "execution_count": null,
   "metadata": {},
   "outputs": [],
   "source": []
  },
  {
   "cell_type": "code",
   "execution_count": null,
   "metadata": {},
   "outputs": [],
   "source": []
  },
  {
   "cell_type": "code",
   "execution_count": null,
   "metadata": {},
   "outputs": [],
   "source": []
  }
 ],
 "metadata": {
  "kernelspec": {
   "display_name": "Python 3",
   "language": "python",
   "name": "python3"
  },
  "language_info": {
   "codemirror_mode": {
    "name": "ipython",
    "version": 3
   },
   "file_extension": ".py",
   "mimetype": "text/x-python",
   "name": "python",
   "nbconvert_exporter": "python",
   "pygments_lexer": "ipython3",
   "version": "3.6.5"
  }
 },
 "nbformat": 4,
 "nbformat_minor": 2
}
