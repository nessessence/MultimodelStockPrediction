{
 "cells": [
  {
   "cell_type": "code",
   "execution_count": 1,
   "metadata": {},
   "outputs": [],
   "source": [
    "import numpy as np\n",
    "import pandas as pd\n",
    "import os\n",
    "import seaborn as sns\n",
    "import re\n",
    "import matplotlib.pyplot as plt\n",
    "from sklearn.model_selection import train_test_split\n",
    "from tensorflow.keras.preprocessing.text import Tokenizer\n",
    "from tensorflow.keras.preprocessing.sequence import pad_sequences\n",
    "from tensorflow.keras.layers import Embedding, Flatten, Dense, Conv1D, GlobalMaxPooling1D, LSTM, Bidirectional\n",
    "from tensorflow.keras.models import Sequential"
   ]
  },
  {
   "cell_type": "code",
   "execution_count": 2,
   "metadata": {},
   "outputs": [
    {
     "data": {
      "text/plain": [
       "['RedditNews.csv', 'Combined_News_DJIA.csv', 'upload_DJIA_table.csv']"
      ]
     },
     "execution_count": 2,
     "metadata": {},
     "output_type": "execute_result"
    }
   ],
   "source": [
    "os.listdir('../data/stocknews/')"
   ]
  },
  {
   "cell_type": "code",
   "execution_count": 3,
   "metadata": {},
   "outputs": [],
   "source": [
    "df_reddit = pd.read_csv('../data/stocknews/RedditNews.csv')\n",
    "df_news = pd.read_csv('../data/stocknews/Combined_News_DJIA.csv')\n",
    "df_djia = pd.read_csv('../data/stocknews/upload_DJIA_table.csv')\n"
   ]
  },
  {
   "cell_type": "code",
   "execution_count": 4,
   "metadata": {
    "scrolled": true
   },
   "outputs": [],
   "source": [
    "df_djia_news = pd.merge(df_djia, df_news, on='Date', how='inner')\n",
    "\n",
    "df = pd.merge(df_djia_news, df_reddit, on='Date', how='inner')"
   ]
  },
  {
   "cell_type": "code",
   "execution_count": 5,
   "metadata": {},
   "outputs": [
    {
     "data": {
      "text/plain": [
       "'A 117-year-old woman in Mexico City finally received her birth certificate, and died a few hours later. Trinidad Alvarez Lira had waited years for proof that she had been born in 1898.'"
      ]
     },
     "execution_count": 5,
     "metadata": {},
     "output_type": "execute_result"
    }
   ],
   "source": [
    "df_djia_news['Top1'][0]"
   ]
  },
  {
   "cell_type": "markdown",
   "metadata": {},
   "source": [
    "# Sentiment Analysis"
   ]
  },
  {
   "cell_type": "code",
   "execution_count": 6,
   "metadata": {},
   "outputs": [
    {
     "data": {
      "text/plain": [
       "<matplotlib.axes._subplots.AxesSubplot at 0x139d615c0>"
      ]
     },
     "execution_count": 6,
     "metadata": {},
     "output_type": "execute_result"
    },
    {
     "data": {
      "image/png": "[encoded data removed]",
      "text/plain": [
       "<Figure size 432x288 with 1 Axes>"
      ]
     },
     "metadata": {
      "needs_background": "light"
     },
     "output_type": "display_data"
    }
   ],
   "source": [
    "# 0 = decrease , 1 = increase or equal at Adj.Close\n",
    "sns.countplot(x='Label', data=df_news)"
   ]
  },
  {
   "cell_type": "code",
   "execution_count": 7,
   "metadata": {},
   "outputs": [],
   "source": [
    "# Preprocess \n",
    "def preprocess_text(sen):\n",
    "    sentence = remove_tags(sen)\n",
    "    sentence = re.sub('[^a-zA-Z]', ' ', sentence)\n",
    "    sentence = re.sub(r\"\\s+[a-zA-Z]\\s+\", ' ', sentence)\n",
    "    sentence = re.sub(r'\\s+', ' ', sentence)\n",
    "    return sentence\n",
    "\n",
    "TAG_RE = re.compile(r'<[^>]+>')\n",
    "\n",
    "def remove_tags(text):\n",
    "    return TAG_RE.sub('',text)"
   ]
  },
  {
   "cell_type": "code",
   "execution_count": 8,
   "metadata": {},
   "outputs": [
    {
     "data": {
      "text/plain": [
       "'b\"Georgia \\'downs two Russian warplanes\\' as countries move to brink of war\"'"
      ]
     },
     "execution_count": 8,
     "metadata": {},
     "output_type": "execute_result"
    }
   ],
   "source": [
    "df_news['Top1'][0]"
   ]
  },
  {
   "cell_type": "code",
   "execution_count": 9,
   "metadata": {},
   "outputs": [],
   "source": [
    "X = list()\n",
    "sentences = df_news['Top1']\n",
    "for sen in sentences:\n",
    "    X.append(preprocess_text(sen))\n",
    "    \n",
    "y = df_news['Label']"
   ]
  },
  {
   "cell_type": "code",
   "execution_count": 10,
   "metadata": {},
   "outputs": [],
   "source": [
    "X_train, X_test, y_train, y_test = train_test_split(X, y, test_size=0.2, random_state=0)"
   ]
  },
  {
   "cell_type": "code",
   "execution_count": 11,
   "metadata": {},
   "outputs": [],
   "source": [
    "tokenizer = Tokenizer(num_words=5000)\n",
    "tokenizer.fit_on_texts(X_train)\n",
    "\n",
    "X_train = tokenizer.texts_to_sequences(X_train)\n",
    "X_test = tokenizer.texts_to_sequences(X_test)"
   ]
  },
  {
   "cell_type": "code",
   "execution_count": 12,
   "metadata": {},
   "outputs": [],
   "source": [
    "vocab_size = len(tokenizer.word_index) + 1\n",
    "\n",
    "maxlen = 100\n",
    "\n",
    "X_train = pad_sequences(X_train, padding='post', maxlen=maxlen)\n",
    "X_test = pad_sequences(X_test, padding='post', maxlen=maxlen)"
   ]
  },
  {
   "cell_type": "code",
   "execution_count": 13,
   "metadata": {},
   "outputs": [],
   "source": [
    "embeddings_dict = dict()"
   ]
  },
  {
   "cell_type": "code",
   "execution_count": 14,
   "metadata": {},
   "outputs": [],
   "source": [
    "# !touch glove.txt"
   ]
  },
  {
   "cell_type": "code",
   "execution_count": 15,
   "metadata": {},
   "outputs": [
    {
     "data": {
      "text/plain": [
       "['glove.6B.300d.txt',\n",
       " 'glove.6B.100d.txt',\n",
       " 'glove.6B.50d.txt',\n",
       " 'glove.6B.200d.txt']"
      ]
     },
     "execution_count": 15,
     "metadata": {},
     "output_type": "execute_result"
    }
   ],
   "source": [
    "os.listdir('/Users/2two2/Downloads/glove.6B/')"
   ]
  },
  {
   "cell_type": "code",
   "execution_count": 16,
   "metadata": {},
   "outputs": [],
   "source": [
    "glove_file = open('/Users/2two2/Downloads/glove.6B/glove.6B.300d.txt', encoding='utf8')\n",
    "\n",
    "for line in glove_file:\n",
    "    records = line.split()\n",
    "    word = records[0]\n",
    "    vector_dimensions = np.asarray(records[1:], dtype='float32')\n",
    "    embeddings_dict[word] = vector_dimensions\n",
    "glove_file.close()\n"
   ]
  },
  {
   "cell_type": "code",
   "execution_count": 17,
   "metadata": {},
   "outputs": [],
   "source": [
    "embedding_matrix = np.zeros((vocab_size, 300))\n",
    "for word, index in tokenizer.word_index.items():\n",
    "    embedding_vector = embeddings_dict.get(word)\n",
    "    if embedding_vector is not None:\n",
    "        embedding_matrix[index] = embedding_vector"
   ]
  },
  {
   "cell_type": "markdown",
   "metadata": {},
   "source": [
    "Simple NN"
   ]
  },
  {
   "cell_type": "code",
   "execution_count": 18,
   "metadata": {},
   "outputs": [
    {
     "name": "stderr",
     "output_type": "stream",
     "text": [
      "WARNING: Logging before flag parsing goes to stderr.\n",
      "W1125 13:29:43.414553 4634914240 deprecation.py:506] From /usr/local/lib/python3.6/site-packages/tensorflow_core/python/keras/initializers.py:119: calling RandomUniform.__init__ (from tensorflow.python.ops.init_ops) with dtype is deprecated and will be removed in a future version.\n",
      "Instructions for updating:\n",
      "Call initializer instance with the dtype argument instead of passing it to the constructor\n",
      "W1125 13:29:43.436879 4634914240 deprecation.py:506] From /usr/local/lib/python3.6/site-packages/tensorflow_core/python/ops/resource_variable_ops.py:1630: calling BaseResourceVariable.__init__ (from tensorflow.python.ops.resource_variable_ops) with constraint is deprecated and will be removed in a future version.\n",
      "Instructions for updating:\n",
      "If using Keras pass *_constraint arguments to layers.\n",
      "W1125 13:29:43.599750 4634914240 deprecation.py:323] From /usr/local/lib/python3.6/site-packages/tensorflow_core/python/ops/nn_impl.py:183: where (from tensorflow.python.ops.array_ops) is deprecated and will be removed in a future version.\n",
      "Instructions for updating:\n",
      "Use tf.where in 2.0, which has the same broadcast rule as np.where\n"
     ]
    },
    {
     "name": "stdout",
     "output_type": "stream",
     "text": [
      "Model: \"sequential\"\n",
      "_________________________________________________________________\n",
      "Layer (type)                 Output Shape              Param #   \n",
      "=================================================================\n",
      "embedding (Embedding)        (None, 100, 300)          1997700   \n",
      "_________________________________________________________________\n",
      "flatten (Flatten)            (None, 30000)             0         \n",
      "_________________________________________________________________\n",
      "dense (Dense)                (None, 1)                 30001     \n",
      "=================================================================\n",
      "Total params: 2,027,701\n",
      "Trainable params: 30,001\n",
      "Non-trainable params: 1,997,700\n",
      "_________________________________________________________________\n",
      "None\n"
     ]
    }
   ],
   "source": [
    "model = Sequential()\n",
    "embedding_layer = Embedding(vocab_size, 300, weights=[embedding_matrix], input_length=maxlen , trainable=False)\n",
    "model.add(embedding_layer)\n",
    "\n",
    "model.add(Flatten())\n",
    "model.add(Dense(1, activation='sigmoid'))\n",
    "model.compile(optimizer='adam', loss='binary_crossentropy', metrics=['acc'])\n",
    "\n",
    "print(model.summary())"
   ]
  },
  {
   "cell_type": "code",
   "execution_count": 19,
   "metadata": {
    "scrolled": true
   },
   "outputs": [
    {
     "name": "stdout",
     "output_type": "stream",
     "text": [
      "Train on 1272 samples, validate on 319 samples\n",
      "Epoch 1/20\n",
      "1272/1272 [==============================] - 0s 276us/sample - loss: 0.7012 - acc: 0.5063 - val_loss: 0.7091 - val_acc: 0.4922\n",
      "Epoch 2/20\n",
      "1272/1272 [==============================] - 0s 106us/sample - loss: 0.5936 - acc: 0.7068 - val_loss: 0.7074 - val_acc: 0.4828\n",
      "Epoch 3/20\n",
      "1272/1272 [==============================] - 0s 81us/sample - loss: 0.5270 - acc: 0.8184 - val_loss: 0.7121 - val_acc: 0.4859\n",
      "Epoch 4/20\n",
      "1272/1272 [==============================] - 0s 113us/sample - loss: 0.4779 - acc: 0.8703 - val_loss: 0.7186 - val_acc: 0.4890\n",
      "Epoch 5/20\n",
      "1272/1272 [==============================] - 0s 90us/sample - loss: 0.4380 - acc: 0.8923 - val_loss: 0.7271 - val_acc: 0.4890\n",
      "Epoch 6/20\n",
      "1272/1272 [==============================] - 0s 104us/sample - loss: 0.4055 - acc: 0.9159 - val_loss: 0.7354 - val_acc: 0.4953\n",
      "Epoch 7/20\n",
      "1272/1272 [==============================] - 0s 70us/sample - loss: 0.3772 - acc: 0.9222 - val_loss: 0.7431 - val_acc: 0.5078\n",
      "Epoch 8/20\n",
      "1272/1272 [==============================] - 0s 105us/sample - loss: 0.3537 - acc: 0.9379 - val_loss: 0.7497 - val_acc: 0.5016\n",
      "Epoch 9/20\n",
      "1272/1272 [==============================] - 0s 75us/sample - loss: 0.3321 - acc: 0.9458 - val_loss: 0.7629 - val_acc: 0.4890\n",
      "Epoch 10/20\n",
      "1272/1272 [==============================] - 0s 78us/sample - loss: 0.3135 - acc: 0.9513 - val_loss: 0.7717 - val_acc: 0.4890\n",
      "Epoch 11/20\n",
      "1272/1272 [==============================] - 0s 94us/sample - loss: 0.2962 - acc: 0.9575 - val_loss: 0.7793 - val_acc: 0.4796\n",
      "Epoch 12/20\n",
      "1272/1272 [==============================] - 0s 81us/sample - loss: 0.2809 - acc: 0.9646 - val_loss: 0.7902 - val_acc: 0.4859\n",
      "Epoch 13/20\n",
      "1272/1272 [==============================] - 0s 69us/sample - loss: 0.2675 - acc: 0.9678 - val_loss: 0.7976 - val_acc: 0.4859\n",
      "Epoch 14/20\n",
      "1272/1272 [==============================] - 0s 67us/sample - loss: 0.2547 - acc: 0.9717 - val_loss: 0.8110 - val_acc: 0.4890\n",
      "Epoch 15/20\n",
      "1272/1272 [==============================] - 0s 69us/sample - loss: 0.2427 - acc: 0.9764 - val_loss: 0.8162 - val_acc: 0.4953\n",
      "Epoch 16/20\n",
      "1272/1272 [==============================] - 0s 69us/sample - loss: 0.2320 - acc: 0.9788 - val_loss: 0.8272 - val_acc: 0.4890\n",
      "Epoch 17/20\n",
      "1272/1272 [==============================] - 0s 72us/sample - loss: 0.2214 - acc: 0.9819 - val_loss: 0.8338 - val_acc: 0.4859\n",
      "Epoch 18/20\n",
      "1272/1272 [==============================] - 0s 76us/sample - loss: 0.2125 - acc: 0.9835 - val_loss: 0.8441 - val_acc: 0.4859\n",
      "Epoch 19/20\n",
      "1272/1272 [==============================] - 0s 80us/sample - loss: 0.2038 - acc: 0.9851 - val_loss: 0.8516 - val_acc: 0.4953\n",
      "Epoch 20/20\n",
      "1272/1272 [==============================] - 0s 103us/sample - loss: 0.1954 - acc: 0.9890 - val_loss: 0.8635 - val_acc: 0.4765\n"
     ]
    }
   ],
   "source": [
    "history = model.fit(X_train, y_train, batch_size=128, epochs=20, verbose=1, validation_split=0.2)"
   ]
  },
  {
   "cell_type": "code",
   "execution_count": 22,
   "metadata": {},
   "outputs": [
    {
     "name": "stdout",
     "output_type": "stream",
     "text": [
      "398/398 [==============================] - 1s 3ms/sample - loss: 2.2888 - acc: 0.4673\n",
      "Test Score: 2.2887789813717405\n",
      "Test Accuracy: 0.46733668\n"
     ]
    },
    {
     "data": {
      "image/png": "[encoded data removed]",
      "text/plain": [
       "<Figure size 432x288 with 1 Axes>"
      ]
     },
     "metadata": {
      "needs_background": "light"
     },
     "output_type": "display_data"
    },
    {
     "data": {
      "image/png": "[encoded data removed]",
      "text/plain": [
       "<Figure size 432x288 with 1 Axes>"
      ]
     },
     "metadata": {
      "needs_background": "light"
     },
     "output_type": "display_data"
    }
   ],
   "source": [
    "score = model.evaluate(X_test, y_test, verbose=1)\n",
    "print(\"Test Score:\", score[0])\n",
    "print(\"Test Accuracy:\", score[1])\n",
    "\n",
    "plt.plot(history.history['acc'])\n",
    "plt.plot(history.history['val_acc'])\n",
    "\n",
    "\n",
    "plt.title('model accuracy')\n",
    "plt.ylabel('accuracy')\n",
    "plt.xlabel('epoch')\n",
    "plt.legend(['train','test'], loc='upper left')\n",
    "plt.show()\n",
    "\n",
    "plt.plot(history.history['loss'])\n",
    "plt.plot(history.history['val_loss'])\n",
    "\n",
    "plt.title('model loss')\n",
    "plt.ylabel('loss')\n",
    "plt.xlabel('epoch')\n",
    "plt.legend(['train','test'], loc='upper left')\n",
    "plt.show()"
   ]
  },
  {
   "cell_type": "markdown",
   "metadata": {},
   "source": [
    "Conv1D "
   ]
  },
  {
   "cell_type": "code",
   "execution_count": 95,
   "metadata": {},
   "outputs": [
    {
     "name": "stdout",
     "output_type": "stream",
     "text": [
      "Model: \"sequential_12\"\n",
      "_________________________________________________________________\n",
      "Layer (type)                 Output Shape              Param #   \n",
      "=================================================================\n",
      "embedding_12 (Embedding)     (None, 100, 300)          1997700   \n",
      "_________________________________________________________________\n",
      "conv1d_2 (Conv1D)            (None, 96, 128)           192128    \n",
      "_________________________________________________________________\n",
      "global_max_pooling1d_1 (Glob (None, 128)               0         \n",
      "_________________________________________________________________\n",
      "dense_6 (Dense)              (None, 1)                 129       \n",
      "=================================================================\n",
      "Total params: 2,189,957\n",
      "Trainable params: 192,257\n",
      "Non-trainable params: 1,997,700\n",
      "_________________________________________________________________\n",
      "None\n"
     ]
    }
   ],
   "source": [
    "model = Sequential()\n",
    "\n",
    "embedding_layer = Embedding(vocab_size, 300, weights=[embedding_matrix], input_length=maxlen , trainable=False)\n",
    "model.add(embedding_layer)\n",
    "\n",
    "model.add(Conv1D(128, 5, activation='relu'))\n",
    "model.add(GlobalMaxPooling1D())\n",
    "model.add(Dense(1, activation='sigmoid'))\n",
    "model.compile(optimizer='adam', loss='binary_crossentropy', metrics=['acc'])\n",
    "\n",
    "print(model.summary())"
   ]
  },
  {
   "cell_type": "code",
   "execution_count": 96,
   "metadata": {},
   "outputs": [
    {
     "name": "stdout",
     "output_type": "stream",
     "text": [
      "Train on 1272 samples, validate on 319 samples\n",
      "Epoch 1/6\n",
      "1272/1272 [==============================] - 2s 1ms/sample - loss: 0.7936 - acc: 0.4984 - val_loss: 0.7248 - val_acc: 0.4859\n",
      "Epoch 2/6\n",
      "1272/1272 [==============================] - 1s 1ms/sample - loss: 0.5578 - acc: 0.7406 - val_loss: 0.7218 - val_acc: 0.4765\n",
      "Epoch 3/6\n",
      "1272/1272 [==============================] - 1s 1ms/sample - loss: 0.4603 - acc: 0.8766 - val_loss: 0.7729 - val_acc: 0.5423\n",
      "Epoch 4/6\n",
      "1272/1272 [==============================] - 1s 974us/sample - loss: 0.3764 - acc: 0.9544 - val_loss: 0.7314 - val_acc: 0.4859\n",
      "Epoch 5/6\n",
      "1272/1272 [==============================] - 1s 1ms/sample - loss: 0.3150 - acc: 0.9874 - val_loss: 0.7391 - val_acc: 0.4922\n",
      "Epoch 6/6\n",
      "1272/1272 [==============================] - 1s 1ms/sample - loss: 0.2628 - acc: 0.9976 - val_loss: 0.7469 - val_acc: 0.4859\n",
      "398/398 [==============================] - 0s 494us/sample - loss: 0.7422 - acc: 0.4925\n",
      "Test Score: 0.742242939508141\n",
      "Test Accuracy: 0.4924623\n"
     ]
    },
    {
     "data": {
      "image/png": "[encoded data removed]",
      "text/plain": [
       "<Figure size 432x288 with 1 Axes>"
      ]
     },
     "metadata": {
      "needs_background": "light"
     },
     "output_type": "display_data"
    },
    {
     "data": {
      "image/png": "[encoded data removed]",
      "text/plain": [
       "<Figure size 432x288 with 1 Axes>"
      ]
     },
     "metadata": {
      "needs_background": "light"
     },
     "output_type": "display_data"
    }
   ],
   "source": [
    "history = model.fit(X_train, y_train, batch_size=128, epochs=6, verbose=1, validation_split=0.2)\n",
    "\n",
    "score = model.evaluate(X_test, y_test, verbose=1)\n",
    "print(\"Test Score:\", score[0])\n",
    "print(\"Test Accuracy:\", score[1])\n",
    "\n",
    "plt.plot(history.history['acc'])\n",
    "plt.plot(history.history['val_acc'])\n",
    "\n",
    "plt.title('model accuracy')\n",
    "plt.ylabel('accuracy')\n",
    "plt.xlabel('epoch')\n",
    "plt.legend(['train','test'], loc = 'upper left')\n",
    "plt.show()\n",
    "\n",
    "plt.plot(history.history['loss'])\n",
    "plt.plot(history.history['val_loss'])\n",
    "\n",
    "plt.title('model loss')\n",
    "plt.ylabel('loss')\n",
    "plt.xlabel('epoch')\n",
    "plt.legend(['train','test'], loc = 'upper left')\n",
    "plt.show()"
   ]
  },
  {
   "cell_type": "markdown",
   "metadata": {},
   "source": [
    "LSTM "
   ]
  },
  {
   "cell_type": "code",
   "execution_count": 20,
   "metadata": {},
   "outputs": [
    {
     "name": "stderr",
     "output_type": "stream",
     "text": [
      "W1125 13:29:46.774669 4634914240 deprecation.py:506] From /usr/local/lib/python3.6/site-packages/tensorflow_core/python/ops/init_ops.py:97: calling GlorotUniform.__init__ (from tensorflow.python.ops.init_ops) with dtype is deprecated and will be removed in a future version.\n",
      "Instructions for updating:\n",
      "Call initializer instance with the dtype argument instead of passing it to the constructor\n",
      "W1125 13:29:46.775897 4634914240 deprecation.py:506] From /usr/local/lib/python3.6/site-packages/tensorflow_core/python/ops/init_ops.py:97: calling Orthogonal.__init__ (from tensorflow.python.ops.init_ops) with dtype is deprecated and will be removed in a future version.\n",
      "Instructions for updating:\n",
      "Call initializer instance with the dtype argument instead of passing it to the constructor\n",
      "W1125 13:29:46.777451 4634914240 deprecation.py:506] From /usr/local/lib/python3.6/site-packages/tensorflow_core/python/ops/init_ops.py:97: calling Zeros.__init__ (from tensorflow.python.ops.init_ops) with dtype is deprecated and will be removed in a future version.\n",
      "Instructions for updating:\n",
      "Call initializer instance with the dtype argument instead of passing it to the constructor\n"
     ]
    },
    {
     "name": "stdout",
     "output_type": "stream",
     "text": [
      "Model: \"sequential_1\"\n",
      "_________________________________________________________________\n",
      "Layer (type)                 Output Shape              Param #   \n",
      "=================================================================\n",
      "embedding_1 (Embedding)      (None, 100, 300)          1997700   \n",
      "_________________________________________________________________\n",
      "bidirectional (Bidirectional (None, 256)               439296    \n",
      "_________________________________________________________________\n",
      "dense_1 (Dense)              (None, 1)                 257       \n",
      "=================================================================\n",
      "Total params: 2,437,253\n",
      "Trainable params: 439,553\n",
      "Non-trainable params: 1,997,700\n",
      "_________________________________________________________________\n",
      "None\n"
     ]
    }
   ],
   "source": [
    "model = Sequential()\n",
    "embedding_layer = Embedding(vocab_size, 300, weights=[embedding_matrix], input_length=maxlen , trainable=False)\n",
    "model.add(embedding_layer)\n",
    "model.add(Bidirectional(LSTM(128)))\n",
    "\n",
    "model.add(Dense(1, activation='sigmoid'))\n",
    "model.compile(optimizer='adam', loss='binary_crossentropy', metrics=['acc'])\n",
    "print(model.summary())"
   ]
  },
  {
   "cell_type": "code",
   "execution_count": 21,
   "metadata": {},
   "outputs": [
    {
     "name": "stdout",
     "output_type": "stream",
     "text": [
      "Train on 1272 samples, validate on 319 samples\n",
      "Epoch 1/20\n",
      "1272/1272 [==============================] - 12s 9ms/sample - loss: 0.6892 - acc: 0.5511 - val_loss: 0.6962 - val_acc: 0.4890\n",
      "Epoch 2/20\n",
      "1272/1272 [==============================] - 9s 7ms/sample - loss: 0.6707 - acc: 0.6053 - val_loss: 0.6994 - val_acc: 0.5141\n",
      "Epoch 3/20\n",
      "1272/1272 [==============================] - 9s 7ms/sample - loss: 0.6520 - acc: 0.6289 - val_loss: 0.7094 - val_acc: 0.5047\n",
      "Epoch 4/20\n",
      "1272/1272 [==============================] - 9s 7ms/sample - loss: 0.6244 - acc: 0.6714 - val_loss: 0.7546 - val_acc: 0.5047\n",
      "Epoch 5/20\n",
      "1272/1272 [==============================] - 11s 8ms/sample - loss: 0.5933 - acc: 0.6792 - val_loss: 0.7817 - val_acc: 0.4639\n",
      "Epoch 6/20\n",
      "1272/1272 [==============================] - 11s 9ms/sample - loss: 0.5392 - acc: 0.7319 - val_loss: 0.8930 - val_acc: 0.4734\n",
      "Epoch 7/20\n",
      "1272/1272 [==============================] - 17s 13ms/sample - loss: 0.5099 - acc: 0.7508 - val_loss: 0.8723 - val_acc: 0.4671\n",
      "Epoch 8/20\n",
      "1272/1272 [==============================] - 16s 12ms/sample - loss: 0.4676 - acc: 0.7846 - val_loss: 0.9739 - val_acc: 0.4671\n",
      "Epoch 9/20\n",
      "1272/1272 [==============================] - 15s 12ms/sample - loss: 0.3950 - acc: 0.8200 - val_loss: 1.0449 - val_acc: 0.4420\n",
      "Epoch 10/20\n",
      "1272/1272 [==============================] - 14s 11ms/sample - loss: 0.3159 - acc: 0.8695 - val_loss: 1.2219 - val_acc: 0.4545\n",
      "Epoch 11/20\n",
      "1272/1272 [==============================] - 13s 10ms/sample - loss: 0.2527 - acc: 0.9041 - val_loss: 1.2119 - val_acc: 0.4639\n",
      "Epoch 12/20\n",
      "1272/1272 [==============================] - 10s 8ms/sample - loss: 0.2424 - acc: 0.9182 - val_loss: 1.3412 - val_acc: 0.4671\n",
      "Epoch 13/20\n",
      "1272/1272 [==============================] - 12s 9ms/sample - loss: 0.1773 - acc: 0.9458 - val_loss: 1.7198 - val_acc: 0.4357\n",
      "Epoch 14/20\n",
      "1272/1272 [==============================] - 12s 9ms/sample - loss: 0.1420 - acc: 0.9615 - val_loss: 1.7770 - val_acc: 0.4514\n",
      "Epoch 15/20\n",
      "1272/1272 [==============================] - 11s 9ms/sample - loss: 0.1463 - acc: 0.9552 - val_loss: 1.7787 - val_acc: 0.4201\n",
      "Epoch 16/20\n",
      "1272/1272 [==============================] - 11s 9ms/sample - loss: 0.1133 - acc: 0.9717 - val_loss: 1.9192 - val_acc: 0.4577\n",
      "Epoch 17/20\n",
      "1272/1272 [==============================] - 10s 8ms/sample - loss: 0.1089 - acc: 0.9709 - val_loss: 2.1989 - val_acc: 0.4483\n",
      "Epoch 18/20\n",
      "1272/1272 [==============================] - 11s 9ms/sample - loss: 0.0982 - acc: 0.9764 - val_loss: 1.9821 - val_acc: 0.4796\n",
      "Epoch 19/20\n",
      "1272/1272 [==============================] - 10s 8ms/sample - loss: 0.0764 - acc: 0.9835 - val_loss: 2.1098 - val_acc: 0.4451\n",
      "Epoch 20/20\n",
      "1272/1272 [==============================] - 10s 8ms/sample - loss: 0.0570 - acc: 0.9914 - val_loss: 2.2327 - val_acc: 0.4357\n",
      "398/398 [==============================] - 1s 3ms/sample - loss: 2.2888 - acc: 0.4673\n",
      "Test Score: 2.2887789813717405\n",
      "Test Accuracy: 0.46733668\n"
     ]
    },
    {
     "data": {
      "image/png": "[encoded data removed]",
      "text/plain": [
       "<Figure size 432x288 with 1 Axes>"
      ]
     },
     "metadata": {
      "needs_background": "light"
     },
     "output_type": "display_data"
    },
    {
     "data": {
      "image/png": "[encoded data removed]",
      "text/plain": [
       "<Figure size 432x288 with 1 Axes>"
      ]
     },
     "metadata": {
      "needs_background": "light"
     },
     "output_type": "display_data"
    }
   ],
   "source": [
    "history = model.fit(X_train, y_train, batch_size=128, epochs=20, verbose=1, validation_split=0.2)\n",
    "\n",
    "score = model.evaluate(X_test, y_test, verbose=1)\n",
    "print(\"Test Score:\", score[0])\n",
    "print(\"Test Accuracy:\", score[1])\n",
    "\n",
    "plt.plot(history.history['acc'])\n",
    "plt.plot(history.history['val_acc'])\n",
    "\n",
    "plt.title('model accuracy')\n",
    "plt.ylabel('accuracy')\n",
    "plt.xlabel('epoch')\n",
    "plt.legend(['train','test'], loc='upper left')\n",
    "plt.show()\n",
    "\n",
    "plt.plot(history.history['loss'])\n",
    "plt.plot(history.history['val_loss'])\n",
    "\n",
    "plt.title('model loss')\n",
    "plt.ylabel('loss')\n",
    "plt.xlabel('epoch')\n",
    "plt.legend(['train','test'], loc='upper left')\n",
    "plt.show()"
   ]
  },
  {
   "cell_type": "markdown",
   "metadata": {},
   "source": [
    "Prediction"
   ]
  },
  {
   "cell_type": "code",
   "execution_count": 105,
   "metadata": {},
   "outputs": [
    {
     "data": {
      "text/plain": [
       "array([[0.59076244]], dtype=float32)"
      ]
     },
     "execution_count": 105,
     "metadata": {},
     "output_type": "execute_result"
    }
   ],
   "source": [
    "instance = X[57]\n",
    "instance = tokenizer.texts_to_sequences(instance)\n",
    "\n",
    "flat_list = list()\n",
    "for sublist in instance:\n",
    "    for item in sublist:\n",
    "        flat_list.append(item)\n",
    "        \n",
    "flat_list = [flat_list]\n",
    "instance = pad_sequences(flat_list, padding='post', maxlen=maxlen)\n",
    "\n",
    "model.predict(instance)"
   ]
  },
  {
   "cell_type": "code",
   "execution_count": null,
   "metadata": {},
   "outputs": [],
   "source": [
    "X[547]"
   ]
  },
  {
   "cell_type": "code",
   "execution_count": null,
   "metadata": {},
   "outputs": [],
   "source": []
  },
  {
   "cell_type": "code",
   "execution_count": null,
   "metadata": {},
   "outputs": [],
   "source": []
  }
 ],
 "metadata": {
  "kernelspec": {
   "display_name": "Python 3",
   "language": "python",
   "name": "python3"
  },
  "language_info": {
   "codemirror_mode": {
    "name": "ipython",
    "version": 3
   },
   "file_extension": ".py",
   "mimetype": "text/x-python",
   "name": "python",
   "nbconvert_exporter": "python",
   "pygments_lexer": "ipython3",
   "version": "3.6.5"
  }
 },
 "nbformat": 4,
 "nbformat_minor": 2
}
