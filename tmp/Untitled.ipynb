{
 "cells": [
  {
   "cell_type": "code",
   "execution_count": 1,
   "metadata": {},
   "outputs": [],
   "source": [
    "import pandas as pd\n",
    "import os"
   ]
  },
  {
   "cell_type": "code",
   "execution_count": 3,
   "metadata": {},
   "outputs": [
    {
     "data": {
      "text/plain": [
       "['DJI_fe.csv',\n",
       " 'DJI_STO_20period_sma10.csv',\n",
       " '.DS_Store',\n",
       " 'N225.csv',\n",
       " 'DJI_modified_features - DJI.csv',\n",
       " 'preprocessed',\n",
       " 'N225fillVOL.csv',\n",
       " 'DJI_modified_sma.csv',\n",
       " 'downjone5y.csv',\n",
       " 'N225withoutNULL.csv',\n",
       " 'stocknews',\n",
       " 'dowjone1985_2019.csv',\n",
       " '.ipynb_checkpoints',\n",
       " 'DJI_ema.csv',\n",
       " 'DJI_denoise.csv']"
      ]
     },
     "execution_count": 3,
     "metadata": {},
     "output_type": "execute_result"
    }
   ],
   "source": [
    "os.listdir('../data')"
   ]
  },
  {
   "cell_type": "code",
   "execution_count": 5,
   "metadata": {},
   "outputs": [
    {
     "data": {
      "text/html": [
       "<div>\n",
       "<style scoped>\n",
       "    .dataframe tbody tr th:only-of-type {\n",
       "        vertical-align: middle;\n",
       "    }\n",
       "\n",
       "    .dataframe tbody tr th {\n",
       "        vertical-align: top;\n",
       "    }\n",
       "\n",
       "    .dataframe thead th {\n",
       "        text-align: right;\n",
       "    }\n",
       "</style>\n",
       "<table border=\"1\" class=\"dataframe\">\n",
       "  <thead>\n",
       "    <tr style=\"text-align: right;\">\n",
       "      <th></th>\n",
       "      <th>Date</th>\n",
       "      <th>Open</th>\n",
       "      <th>High</th>\n",
       "      <th>Low</th>\n",
       "      <th>Close</th>\n",
       "      <th>Adj Close</th>\n",
       "      <th>Volume</th>\n",
       "    </tr>\n",
       "  </thead>\n",
       "  <tbody>\n",
       "    <tr>\n",
       "      <th>8757</th>\n",
       "      <td>2019-10-25</td>\n",
       "      <td>26789.609375</td>\n",
       "      <td>27015.369141</td>\n",
       "      <td>26765.679688</td>\n",
       "      <td>26958.060547</td>\n",
       "      <td>26958.060547</td>\n",
       "      <td>274610000</td>\n",
       "    </tr>\n",
       "    <tr>\n",
       "      <th>8758</th>\n",
       "      <td>2019-10-28</td>\n",
       "      <td>27040.330078</td>\n",
       "      <td>27167.880859</td>\n",
       "      <td>27028.710938</td>\n",
       "      <td>27090.720703</td>\n",
       "      <td>27090.720703</td>\n",
       "      <td>290770000</td>\n",
       "    </tr>\n",
       "    <tr>\n",
       "      <th>8759</th>\n",
       "      <td>2019-10-29</td>\n",
       "      <td>27061.070313</td>\n",
       "      <td>27165.939453</td>\n",
       "      <td>27039.759766</td>\n",
       "      <td>27071.460938</td>\n",
       "      <td>27071.460938</td>\n",
       "      <td>269610000</td>\n",
       "    </tr>\n",
       "    <tr>\n",
       "      <th>8760</th>\n",
       "      <td>2019-10-30</td>\n",
       "      <td>27110.710938</td>\n",
       "      <td>27204.359375</td>\n",
       "      <td>26999.640625</td>\n",
       "      <td>27186.689453</td>\n",
       "      <td>27186.689453</td>\n",
       "      <td>231750000</td>\n",
       "    </tr>\n",
       "    <tr>\n",
       "      <th>8761</th>\n",
       "      <td>2019-10-31</td>\n",
       "      <td>27188.369141</td>\n",
       "      <td>27188.369141</td>\n",
       "      <td>26918.289063</td>\n",
       "      <td>27046.230469</td>\n",
       "      <td>27046.230469</td>\n",
       "      <td>270910000</td>\n",
       "    </tr>\n",
       "  </tbody>\n",
       "</table>\n",
       "</div>"
      ],
      "text/plain": [
       "            Date          Open          High           Low         Close  \\\n",
       "8757  2019-10-25  26789.609375  27015.369141  26765.679688  26958.060547   \n",
       "8758  2019-10-28  27040.330078  27167.880859  27028.710938  27090.720703   \n",
       "8759  2019-10-29  27061.070313  27165.939453  27039.759766  27071.460938   \n",
       "8760  2019-10-30  27110.710938  27204.359375  26999.640625  27186.689453   \n",
       "8761  2019-10-31  27188.369141  27188.369141  26918.289063  27046.230469   \n",
       "\n",
       "         Adj Close     Volume  \n",
       "8757  26958.060547  274610000  \n",
       "8758  27090.720703  290770000  \n",
       "8759  27071.460938  269610000  \n",
       "8760  27186.689453  231750000  \n",
       "8761  27046.230469  270910000  "
      ]
     },
     "execution_count": 5,
     "metadata": {},
     "output_type": "execute_result"
    }
   ],
   "source": [
    "df = pd.read_csv('../data/dowjone1985_2019.csv')\n",
    "df.tail()"
   ]
  },
  {
   "cell_type": "code",
   "execution_count": null,
   "metadata": {},
   "outputs": [],
   "source": []
  }
 ],
 "metadata": {
  "kernelspec": {
   "display_name": "Python 3",
   "language": "python",
   "name": "python3"
  },
  "language_info": {
   "codemirror_mode": {
    "name": "ipython",
    "version": 3
   },
   "file_extension": ".py",
   "mimetype": "text/x-python",
   "name": "python",
   "nbconvert_exporter": "python",
   "pygments_lexer": "ipython3",
   "version": "3.6.5"
  }
 },
 "nbformat": 4,
 "nbformat_minor": 2
}
