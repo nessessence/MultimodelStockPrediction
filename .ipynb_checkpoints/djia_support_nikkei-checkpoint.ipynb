{
 "cells": [
  {
   "cell_type": "code",
   "execution_count": 28,
   "metadata": {},
   "outputs": [],
   "source": [
    "import pandas as pd\n",
    "import numpy as np\n",
    "import matplotlib.pyplot as plt\n",
    "import sklearn.preprocessing\n",
    "import sklearn\n",
    "import os\n",
    "from datetime import datetime, timedelta\n",
    "\n",
    "import tensorflow as tf\n",
    "from tensorflow.keras.models import Sequential\n",
    "from tensorflow.keras.optimizers import Adam\n",
    "from tensorflow.keras.layers import LSTM, GRU, Bidirectional, Dense, Dropout, Input\n",
    "from tensorflow.keras import backend as K\n",
    "from tensorflow.keras.callbacks import ModelCheckpoint, ReduceLROnPlateau"
   ]
  },
  {
   "cell_type": "code",
   "execution_count": 29,
   "metadata": {},
   "outputs": [
    {
     "data": {
      "text/plain": [
       "['DJI_fe.csv',\n",
       " 'DJI_STO_20period_sma10.csv',\n",
       " '.DS_Store',\n",
       " 'N225.csv',\n",
       " 'DJI_modified_features - DJI.csv',\n",
       " 'preprocessed',\n",
       " 'N225fillVOL.csv',\n",
       " 'DJI_modified_sma.csv',\n",
       " 'downjone5y.csv',\n",
       " 'N225withoutNULL.csv',\n",
       " 'stocknews',\n",
       " 'dowjone1985_2019.csv',\n",
       " '.ipynb_checkpoints',\n",
       " 'DJI_ema.csv',\n",
       " 'DJI_denoise.csv',\n",
       " 'test_djia.csv']"
      ]
     },
     "execution_count": 29,
     "metadata": {},
     "output_type": "execute_result"
    }
   ],
   "source": [
    "os.listdir('./data/')"
   ]
  },
  {
   "cell_type": "code",
   "execution_count": 30,
   "metadata": {},
   "outputs": [],
   "source": [
    "df_nikkei = pd.read_csv('./data/N225withoutNULL.csv')\n",
    "df_djia = pd.read_csv('./data/DJI_modified_sma.csv')"
   ]
  },
  {
   "cell_type": "code",
   "execution_count": 31,
   "metadata": {},
   "outputs": [
    {
     "data": {
      "text/html": [
       "<div>\n",
       "<style scoped>\n",
       "    .dataframe tbody tr th:only-of-type {\n",
       "        vertical-align: middle;\n",
       "    }\n",
       "\n",
       "    .dataframe tbody tr th {\n",
       "        vertical-align: top;\n",
       "    }\n",
       "\n",
       "    .dataframe thead th {\n",
       "        text-align: right;\n",
       "    }\n",
       "</style>\n",
       "<table border=\"1\" class=\"dataframe\">\n",
       "  <thead>\n",
       "    <tr style=\"text-align: right;\">\n",
       "      <th></th>\n",
       "      <th>Date</th>\n",
       "      <th>Open</th>\n",
       "      <th>High</th>\n",
       "      <th>Low</th>\n",
       "      <th>Close</th>\n",
       "      <th>Adj Close</th>\n",
       "      <th>Volume</th>\n",
       "    </tr>\n",
       "  </thead>\n",
       "  <tbody>\n",
       "    <tr>\n",
       "      <th>0</th>\n",
       "      <td>1985-01-29</td>\n",
       "      <td>11843.070313</td>\n",
       "      <td>11843.070313</td>\n",
       "      <td>11843.070313</td>\n",
       "      <td>11843.070313</td>\n",
       "      <td>11843.070313</td>\n",
       "      <td>0</td>\n",
       "    </tr>\n",
       "    <tr>\n",
       "      <th>1</th>\n",
       "      <td>1985-01-30</td>\n",
       "      <td>11960.629883</td>\n",
       "      <td>11960.629883</td>\n",
       "      <td>11960.629883</td>\n",
       "      <td>11960.629883</td>\n",
       "      <td>11960.629883</td>\n",
       "      <td>0</td>\n",
       "    </tr>\n",
       "    <tr>\n",
       "      <th>2</th>\n",
       "      <td>1985-01-31</td>\n",
       "      <td>11992.309570</td>\n",
       "      <td>11992.309570</td>\n",
       "      <td>11992.309570</td>\n",
       "      <td>11992.309570</td>\n",
       "      <td>11992.309570</td>\n",
       "      <td>0</td>\n",
       "    </tr>\n",
       "    <tr>\n",
       "      <th>3</th>\n",
       "      <td>1985-02-01</td>\n",
       "      <td>11946.959961</td>\n",
       "      <td>11946.959961</td>\n",
       "      <td>11946.959961</td>\n",
       "      <td>11946.959961</td>\n",
       "      <td>11946.959961</td>\n",
       "      <td>0</td>\n",
       "    </tr>\n",
       "    <tr>\n",
       "      <th>4</th>\n",
       "      <td>1985-02-04</td>\n",
       "      <td>11891.080078</td>\n",
       "      <td>11891.080078</td>\n",
       "      <td>11891.080078</td>\n",
       "      <td>11891.080078</td>\n",
       "      <td>11891.080078</td>\n",
       "      <td>0</td>\n",
       "    </tr>\n",
       "  </tbody>\n",
       "</table>\n",
       "</div>"
      ],
      "text/plain": [
       "         Date          Open          High           Low         Close  \\\n",
       "0  1985-01-29  11843.070313  11843.070313  11843.070313  11843.070313   \n",
       "1  1985-01-30  11960.629883  11960.629883  11960.629883  11960.629883   \n",
       "2  1985-01-31  11992.309570  11992.309570  11992.309570  11992.309570   \n",
       "3  1985-02-01  11946.959961  11946.959961  11946.959961  11946.959961   \n",
       "4  1985-02-04  11891.080078  11891.080078  11891.080078  11891.080078   \n",
       "\n",
       "      Adj Close  Volume  \n",
       "0  11843.070313       0  \n",
       "1  11960.629883       0  \n",
       "2  11992.309570       0  \n",
       "3  11946.959961       0  \n",
       "4  11891.080078       0  "
      ]
     },
     "execution_count": 31,
     "metadata": {},
     "output_type": "execute_result"
    }
   ],
   "source": [
    "len(df_nikkei)"
   ]
  },
  {
   "cell_type": "code",
   "execution_count": 40,
   "metadata": {},
   "outputs": [],
   "source": [
    "# df_djia.iloc[0]"
   ]
  },
  {
   "cell_type": "markdown",
   "metadata": {},
   "source": [
    "# Preprocess"
   ]
  },
  {
   "cell_type": "code",
   "execution_count": 41,
   "metadata": {},
   "outputs": [
    {
     "name": "stderr",
     "output_type": "stream",
     "text": [
      "/usr/local/lib/python3.6/site-packages/ipykernel_launcher.py:7: SettingWithCopyWarning: \n",
      "A value is trying to be set on a copy of a slice from a DataFrame\n",
      "\n",
      "See the caveats in the documentation: http://pandas.pydata.org/pandas-docs/stable/user_guide/indexing.html#returning-a-view-versus-a-copy\n",
      "  import sys\n"
     ]
    },
    {
     "ename": "ValueError",
     "evalue": "Location based indexing can only have [integer, integer slice (START point is INCLUDED, END point is EXCLUDED), listlike of integers, boolean array] types",
     "output_type": "error",
     "traceback": [
      "\u001b[0;31m---------------------------------------------------------------------------\u001b[0m",
      "\u001b[0;31mValueError\u001b[0m                                Traceback (most recent call last)",
      "\u001b[0;32m/usr/local/lib/python3.6/site-packages/pandas/core/indexing.py\u001b[0m in \u001b[0;36m_has_valid_tuple\u001b[0;34m(self, key)\u001b[0m\n\u001b[1;32m    234\u001b[0m             \u001b[0;32mtry\u001b[0m\u001b[0;34m:\u001b[0m\u001b[0;34m\u001b[0m\u001b[0m\n\u001b[0;32m--> 235\u001b[0;31m                 \u001b[0mself\u001b[0m\u001b[0;34m.\u001b[0m\u001b[0m_validate_key\u001b[0m\u001b[0;34m(\u001b[0m\u001b[0mk\u001b[0m\u001b[0;34m,\u001b[0m \u001b[0mi\u001b[0m\u001b[0;34m)\u001b[0m\u001b[0;34m\u001b[0m\u001b[0m\n\u001b[0m\u001b[1;32m    236\u001b[0m             \u001b[0;32mexcept\u001b[0m \u001b[0mValueError\u001b[0m\u001b[0;34m:\u001b[0m\u001b[0;34m\u001b[0m\u001b[0m\n",
      "\u001b[0;32m/usr/local/lib/python3.6/site-packages/pandas/core/indexing.py\u001b[0m in \u001b[0;36m_validate_key\u001b[0;34m(self, key, axis)\u001b[0m\n\u001b[1;32m   2034\u001b[0m                 \u001b[0;34m\"Can only index by location with \"\u001b[0m\u001b[0;34m\u001b[0m\u001b[0m\n\u001b[0;32m-> 2035\u001b[0;31m                 \u001b[0;34m\"a [{types}]\"\u001b[0m\u001b[0;34m.\u001b[0m\u001b[0mformat\u001b[0m\u001b[0;34m(\u001b[0m\u001b[0mtypes\u001b[0m\u001b[0;34m=\u001b[0m\u001b[0mself\u001b[0m\u001b[0;34m.\u001b[0m\u001b[0m_valid_types\u001b[0m\u001b[0;34m)\u001b[0m\u001b[0;34m\u001b[0m\u001b[0m\n\u001b[0m\u001b[1;32m   2036\u001b[0m             )\n",
      "\u001b[0;31mValueError\u001b[0m: Can only index by location with a [integer, integer slice (START point is INCLUDED, END point is EXCLUDED), listlike of integers, boolean array]",
      "\nDuring handling of the above exception, another exception occurred:\n",
      "\u001b[0;31mValueError\u001b[0m                                Traceback (most recent call last)",
      "\u001b[0;32m<ipython-input-41-0c0d661952f9>\u001b[0m in \u001b[0;36m<module>\u001b[0;34m\u001b[0m\n\u001b[1;32m      8\u001b[0m \u001b[0;34m\u001b[0m\u001b[0m\n\u001b[1;32m      9\u001b[0m \u001b[0;31m# print(datetime.strptime(df_djia.iloc[0, 'Date'], '%Y-%m-%d'))\u001b[0m\u001b[0;34m\u001b[0m\u001b[0;34m\u001b[0m\u001b[0m\n\u001b[0;32m---> 10\u001b[0;31m \u001b[0mprint\u001b[0m\u001b[0;34m(\u001b[0m\u001b[0mdf_djia\u001b[0m\u001b[0;34m.\u001b[0m\u001b[0miloc\u001b[0m\u001b[0;34m[\u001b[0m\u001b[0;36m0\u001b[0m\u001b[0;34m,\u001b[0m \u001b[0;34m'Date'\u001b[0m\u001b[0;34m]\u001b[0m\u001b[0;34m)\u001b[0m\u001b[0;34m\u001b[0m\u001b[0m\n\u001b[0m\u001b[1;32m     11\u001b[0m \u001b[0;34m\u001b[0m\u001b[0m\n\u001b[1;32m     12\u001b[0m \u001b[0;31m# df = pd.merge(df_nikkei, df_djia_dc, on='Date', how='inner')\u001b[0m\u001b[0;34m\u001b[0m\u001b[0;34m\u001b[0m\u001b[0m\n",
      "\u001b[0;32m/usr/local/lib/python3.6/site-packages/pandas/core/indexing.py\u001b[0m in \u001b[0;36m__getitem__\u001b[0;34m(self, key)\u001b[0m\n\u001b[1;32m   1416\u001b[0m                 \u001b[0;32mexcept\u001b[0m \u001b[0;34m(\u001b[0m\u001b[0mKeyError\u001b[0m\u001b[0;34m,\u001b[0m \u001b[0mIndexError\u001b[0m\u001b[0;34m,\u001b[0m \u001b[0mAttributeError\u001b[0m\u001b[0;34m)\u001b[0m\u001b[0;34m:\u001b[0m\u001b[0;34m\u001b[0m\u001b[0m\n\u001b[1;32m   1417\u001b[0m                     \u001b[0;32mpass\u001b[0m\u001b[0;34m\u001b[0m\u001b[0m\n\u001b[0;32m-> 1418\u001b[0;31m             \u001b[0;32mreturn\u001b[0m \u001b[0mself\u001b[0m\u001b[0;34m.\u001b[0m\u001b[0m_getitem_tuple\u001b[0m\u001b[0;34m(\u001b[0m\u001b[0mkey\u001b[0m\u001b[0;34m)\u001b[0m\u001b[0;34m\u001b[0m\u001b[0m\n\u001b[0m\u001b[1;32m   1419\u001b[0m         \u001b[0;32melse\u001b[0m\u001b[0;34m:\u001b[0m\u001b[0;34m\u001b[0m\u001b[0m\n\u001b[1;32m   1420\u001b[0m             \u001b[0;31m# we by definition only have the 0th axis\u001b[0m\u001b[0;34m\u001b[0m\u001b[0;34m\u001b[0m\u001b[0m\n",
      "\u001b[0;32m/usr/local/lib/python3.6/site-packages/pandas/core/indexing.py\u001b[0m in \u001b[0;36m_getitem_tuple\u001b[0;34m(self, tup)\u001b[0m\n\u001b[1;32m   2090\u001b[0m     \u001b[0;32mdef\u001b[0m \u001b[0m_getitem_tuple\u001b[0m\u001b[0;34m(\u001b[0m\u001b[0mself\u001b[0m\u001b[0;34m,\u001b[0m \u001b[0mtup\u001b[0m\u001b[0;34m)\u001b[0m\u001b[0;34m:\u001b[0m\u001b[0;34m\u001b[0m\u001b[0m\n\u001b[1;32m   2091\u001b[0m \u001b[0;34m\u001b[0m\u001b[0m\n\u001b[0;32m-> 2092\u001b[0;31m         \u001b[0mself\u001b[0m\u001b[0;34m.\u001b[0m\u001b[0m_has_valid_tuple\u001b[0m\u001b[0;34m(\u001b[0m\u001b[0mtup\u001b[0m\u001b[0;34m)\u001b[0m\u001b[0;34m\u001b[0m\u001b[0m\n\u001b[0m\u001b[1;32m   2093\u001b[0m         \u001b[0;32mtry\u001b[0m\u001b[0;34m:\u001b[0m\u001b[0;34m\u001b[0m\u001b[0m\n\u001b[1;32m   2094\u001b[0m             \u001b[0;32mreturn\u001b[0m \u001b[0mself\u001b[0m\u001b[0;34m.\u001b[0m\u001b[0m_getitem_lowerdim\u001b[0m\u001b[0;34m(\u001b[0m\u001b[0mtup\u001b[0m\u001b[0;34m)\u001b[0m\u001b[0;34m\u001b[0m\u001b[0m\n",
      "\u001b[0;32m/usr/local/lib/python3.6/site-packages/pandas/core/indexing.py\u001b[0m in \u001b[0;36m_has_valid_tuple\u001b[0;34m(self, key)\u001b[0m\n\u001b[1;32m    237\u001b[0m                 raise ValueError(\n\u001b[1;32m    238\u001b[0m                     \u001b[0;34m\"Location based indexing can only have \"\u001b[0m\u001b[0;34m\u001b[0m\u001b[0m\n\u001b[0;32m--> 239\u001b[0;31m                     \u001b[0;34m\"[{types}] types\"\u001b[0m\u001b[0;34m.\u001b[0m\u001b[0mformat\u001b[0m\u001b[0;34m(\u001b[0m\u001b[0mtypes\u001b[0m\u001b[0;34m=\u001b[0m\u001b[0mself\u001b[0m\u001b[0;34m.\u001b[0m\u001b[0m_valid_types\u001b[0m\u001b[0;34m)\u001b[0m\u001b[0;34m\u001b[0m\u001b[0m\n\u001b[0m\u001b[1;32m    240\u001b[0m                 )\n\u001b[1;32m    241\u001b[0m \u001b[0;34m\u001b[0m\u001b[0m\n",
      "\u001b[0;31mValueError\u001b[0m: Location based indexing can only have [integer, integer slice (START point is INCLUDED, END point is EXCLUDED), listlike of integers, boolean array] types"
     ]
    }
   ],
   "source": [
    "# postpone 1 day and concatenate both table\n",
    "\n",
    "# decrement datetime of djia first\n",
    "df_djia_dc = df_djia.copy()\n",
    "# df_djia_dc['Date'] = df_djia['Date'] + timedelta(days=-1)\n",
    "for i in range(len(df_djia)):\n",
    "    df_djia_dc.iloc[i]['Date'] = datetime.strptime(df_djia.iloc[i]['Date'], '%Y-%m-%d')\n",
    "    \n",
    "    \n",
    "# print(datetime.strptime(df_djia.iloc[0, 'Date'], '%Y-%m-%d'))\n",
    "print(df_djia.iloc[0, 'Date'])\n",
    "\n",
    "# df = pd.merge(df_nikkei, df_djia_dc, on='Date', how='inner')\n",
    "\n",
    "# rename the col both nikkei and djia\n",
    "#! df_djia_dc['...'] = ..."
   ]
  },
  {
   "cell_type": "code",
   "execution_count": 27,
   "metadata": {},
   "outputs": [
    {
     "data": {
      "text/plain": [
       "'1985-01-29'"
      ]
     },
     "execution_count": 27,
     "metadata": {},
     "output_type": "execute_result"
    }
   ],
   "source": [
    "df_djia.iloc[0]['Date']"
   ]
  },
  {
   "cell_type": "code",
   "execution_count": 13,
   "metadata": {},
   "outputs": [],
   "source": [
    "event_col = ['Open(Nikkei)', 'High(Nikkei)', 'Low(Nikkei)', 'Close(Nikkei)',\n",
    "            'Open(DJIA)', 'High(DJIA)', 'Low(DJIA)', 'Close(DJIA)'\n",
    "            ]\n",
    "total_col = df.columns\n",
    "for col in total_col:\n",
    "    if col not in event_col:\n",
    "        df = df.drop(col, axis=1)"
   ]
  },
  {
   "cell_type": "code",
   "execution_count": 17,
   "metadata": {},
   "outputs": [],
   "source": [
    "def normalize_data(df, event_col):\n",
    "    min_max_scaler = sklearn.preprocessing.MinMaxScaler()\n",
    "    for col in event_col:\n",
    "        if col != 'Date':\n",
    "            df[col] = min_max_scaler.fit_transform(df[col].to_numpy().reshape(-1, 1))\n",
    "    return df\n",
    "\n",
    "def load_data(stock, seq_len):\n",
    "    data_raw = stock.as_matrix()\n",
    "    data = list()\n",
    "    for index in range(len(data_raw) - seq_len):\n",
    "        data.append(data_raw[index: index+seq_len])\n",
    "    data = np.array(data)\n",
    "    val_set_size = int(np.round(val_set_size_percentage/100*data.shape[0]))\n",
    "    test_set_size = int(np.round(test_set_size_percentage/100*data.shape[0]))\n",
    "    train_set_size = data.shape[0] - (val_set_size + test_set_size)\n",
    "    \n",
    "    x_train = data[:train_set_size, :-1, :]\n",
    "    y_train = data[:train_set_size, -1, :]\n",
    "    \n",
    "    x_val = data[train_set_size:train_set_size + val_set_size, :-1, :]\n",
    "    y_val = data[train_set_size:train_set_size + val_set_size, -1, :]\n",
    "    \n",
    "    x_test = data[train_set_size+val_set_size:,:-1,:]\n",
    "    y_test = data[train_set_size+val_set_size:,-1,:]\n",
    "    \n",
    "    return [x_train, y_train, x_val, y_val, x_test, y_test]\n",
    "    "
   ]
  },
  {
   "cell_type": "code",
   "execution_count": null,
   "metadata": {},
   "outputs": [],
   "source": [
    "# parameter for preprocessing #\n",
    "\n",
    "val_set_size_percentage = 10\n",
    "test_set_size_percentage = 10\n",
    "seq_len = 20\n",
    "\n",
    "#*****************************#\n",
    "\n",
    "# normalize index\n",
    "df_norm = normalize_data(df)\n",
    "\n",
    "# split train, val, test data\n",
    "\n",
    "x_train, y_train, x_val, y_val, x_test, y_test = load_data(df_norm, seq_len)\n",
    "\n",
    "print('x_train.shape = ', x_train.shape)\n",
    "print('y_train.shape = ', y_train.shape)\n",
    "print('x_val.shape = ', x_val.shape)\n",
    "print('y_val.shape = ', y_val.shape)\n",
    "print('x_test.shape = ', x_test.shape)\n",
    "print('y_test.shape = ', y_test.shape)"
   ]
  },
  {
   "cell_type": "code",
   "execution_count": 21,
   "metadata": {},
   "outputs": [],
   "source": [
    "# plot graph before train\n",
    "\n",
    "# !set color in graph\n",
    "# color_palette = ...\n",
    "plt.figure(figsize=(15, 10))\n",
    "plt.grid()\n",
    "for i, col in enumerate(event_col):\n",
    "    plt.plot(df_norm[col], color=color_palette[i], label=col)\n",
    "plt.title('Stock price')\n",
    "plt.xlabel('Time [days]')\n",
    "plt.ylabel('Normalized price / volume')\n",
    "plt.legend()\n",
    "plt.show()"
   ]
  },
  {
   "cell_type": "code",
   "execution_count": null,
   "metadata": {},
   "outputs": [],
   "source": [
    "# hyperparameter \n",
    "batch_size = 1024\n",
    "epochs = 10\n",
    "\n",
    "# set up callback_list\n",
    "weight_path_model = \"saved_model/model_djia_support_nikkei.h5\"\n",
    "callbacks_list_model = [\n",
    "    ModelCheckpoint(\n",
    "             weight_path_model,\n",
    "            save_best_only=True,\n",
    "            save_weights_only=True,\n",
    "            monitor='val_loss',\n",
    "            mode='min',\n",
    "            verbose=2\n",
    "        ),\n",
    "    ReduceLROnPlateau(monitor='val_loss', factor=0.8, patience=4, min_lr=1e-9)\n",
    "]"
   ]
  },
  {
   "cell_type": "code",
   "execution_count": null,
   "metadata": {},
   "outputs": [],
   "source": [
    "K.clear_session()\n",
    "\n",
    "def get_bi_gru():\n",
    "    \n",
    "    input1 = Input(shape=(19,8,))\n",
    "    x = Bidirectional(LSTM(256, return_sequences=True,  kernel_initializer='Orthogonal'))(input1)\n",
    "    x = TimeDistributed(LeakyReLU())(x)\n",
    "    x = TimeDistributed(BatchNormalization())(x)\n",
    "    x = GRU(128,kernel_initializer='Orthogonal')(x)\n",
    "    x =(LeakyReLU())(x)\n",
    "    x = (BatchNormalization())(x)\n",
    "    x = (Dropout(0.25))(x)\n",
    "    out = Dense(8,kernel_initializer='he_normal')(x)\n",
    "\n",
    "    \n",
    "    \n",
    "    model = Model(inputs=input1, outputs=out)\n",
    "    model.compile(optimizer=Adam(0.005),\n",
    "                loss='mse',\n",
    "                metrics=['mse'])   \n",
    "    \n",
    "    return model\n",
    "\n",
    "model = get_bi_gru()\n",
    "model.summary()\n",
    "    "
   ]
  },
  {
   "cell_type": "markdown",
   "metadata": {},
   "source": [
    "# Experiment and Result"
   ]
  },
  {
   "cell_type": "code",
   "execution_count": null,
   "metadata": {},
   "outputs": [],
   "source": [
    "history = model.fit(x_train, y_train, epochs=epochs , callbacks=callbacks_list_model,\n",
    "          validation_data=(x_val, y_val),batch_size=batch_size) "
   ]
  },
  {
   "cell_type": "code",
   "execution_count": null,
   "metadata": {},
   "outputs": [],
   "source": [
    "print(history.history.keys())"
   ]
  },
  {
   "cell_type": "code",
   "execution_count": null,
   "metadata": {},
   "outputs": [],
   "source": [
    "plt.title(\"Loss (MSE)\")\n",
    "plt.plot(history.history['loss'],color = 'blue',label=\"train_loss\")\n",
    "plt.plot(history.history['val_loss'],color = 'red',label=\"val_loss\")\n",
    "plt.xlabel(\"epochs\")\n",
    "plt.ylabel(\"loss\")\n",
    "plt.legend()\n",
    "plt.savefig('loss_support.png')"
   ]
  },
  {
   "cell_type": "code",
   "execution_count": null,
   "metadata": {},
   "outputs": [],
   "source": [
    "y_train_pred = model.predict(x_train)\n",
    "y_val_pred = model.predict(x_val)\n",
    "y_test_pred = model.predict(x_test)"
   ]
  },
  {
   "cell_type": "code",
   "execution_count": null,
   "metadata": {},
   "outputs": [],
   "source": [
    "#fix!\n",
    "def plot_compare(x, event_col):\n",
    "#     Col = {'Open':0, 'High':1, 'Low':2, 'Close':3}\n",
    "    Col = dict()\n",
    "    count = 0\n",
    "    for i, col in enumerate(event_col):\n",
    "        Col[col] = i\n",
    "    ft = Col[x]\n",
    "    plt.figure(figsize=(15, 5))\n",
    "    plt.subplot(1, 2, 1)\n",
    "\n",
    "    plt.plot(np.arange(y_train.shape[0]), y_train[:, ft], color='blue', label='train target')\n",
    "\n",
    "    plt.plot(np.arange(y_train.shape[0], y_train.shape[0] + y_val.shape[0]), y_val[:, ft], \n",
    "             color='gray', label='val target')\n",
    "    plt.plot(np.arange(y_train.shape[0] + y_val.shape[0], y_train.shape[0] + y_val.shape[0] + y_test.shape[0]),\n",
    "            y_test[:, ft], color='black', label='test target')\n",
    "    plt.plot(np.arange(y_train_pred.shape[0]), y_train_pred[:, ft],\n",
    "            color='red', label='train prediction') \n",
    "    plt.plot(np.arange(y_train_pred.shape[0], y_train_pred.shape[0] + y_val_pred.shape[0]),\n",
    "            y_val_pred[:, ft], color='orange', label='val prediction')\n",
    "    plt.plot(np.arange(y_train_pred.shape[0] + y_val_pred.shape[0],\n",
    "            y_train_pred.shape[0] + y_val_pred.shape[0] + y_test_pred.shape[0]),\n",
    "            y_test_pred[:, ft], color ='green', label='test prediction')\n",
    "    plt.title('past and future stock price :' + x)\n",
    "    plt.xlabel('Time [Days]')\n",
    "    plt.ylabel('Normalized price')\n",
    "    plt.legend(loc='best')\n",
    "\n",
    "    plt.subplot(1, 2, 2)\n",
    "    plt.plot(np.arange(y_train.shape[0], y_train.shape[0] + y_test.shape[0]),\n",
    "            y_test[:, ft], color='black', label='test target')\n",
    "    plt.plot(np.arange(y_train.shape[0], y_train.shape[0] + y_test_pred.shape[0]),\n",
    "            y_test_pred[:, ft], color='green', label='test prediction')\n",
    "    plt.title('future stock prices :' + x)\n",
    "    plt.xlabel('Time [Days]')\n",
    "    plt.ylabel('Normalized price')\n",
    "    plt.legend(loc='best')\n",
    "\n"
   ]
  },
  {
   "cell_type": "code",
   "execution_count": null,
   "metadata": {},
   "outputs": [],
   "source": [
    "plot_compare('Close(DJIA)', event_col)"
   ]
  }
 ],
 "metadata": {
  "kernelspec": {
   "display_name": "Python 3",
   "language": "python",
   "name": "python3"
  },
  "language_info": {
   "codemirror_mode": {
    "name": "ipython",
    "version": 3
   },
   "file_extension": ".py",
   "mimetype": "text/x-python",
   "name": "python",
   "nbconvert_exporter": "python",
   "pygments_lexer": "ipython3",
   "version": "3.6.5"
  }
 },
 "nbformat": 4,
 "nbformat_minor": 2
}
